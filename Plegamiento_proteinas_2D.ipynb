{
 "cells": [
  {
   "cell_type": "markdown",
   "metadata": {},
   "source": [
    "# PLEGAMIENTO DE PROTEÍNAS 2D\n",
    "### Grado Ingeniería del Software - Curso 2021-22\n",
    "### Búsqueda local: enfriamiento simulado\n",
    "### Álvaro Úbeda Ruiz y Estefanía Ganfornina Triguero"
   ]
  },
  {
   "cell_type": "code",
   "execution_count": 1,
   "metadata": {},
   "outputs": [],
   "source": [
    "import matplotlib.pyplot as pl \n",
    "import random\n",
    "from math import e\n",
    "import time"
   ]
  },
  {
   "cell_type": "markdown",
   "metadata": {},
   "source": [
    "### Problema 1\n",
    "Implementar una función get_spatial_dic(protein, structure) que recibe una cadena\n",
    "representando una proteína (letras de aminoácidos) y otra cadena representando su estructura\n",
    "(I para el aminoácido inicial, N, S, E o W según la posición relativa de un aminoácido con respecto\n",
    "al anterior) y devuelve un diccionario o un diccionario vacío si existen solapamientos. Las claves\n",
    "de dicho diccionario serán tuplas de dos números enteros representando coordenadas\n",
    "espaciales y los valores serán letras de aminoácidos"
   ]
  },
  {
   "cell_type": "code",
   "execution_count": 2,
   "metadata": {},
   "outputs": [],
   "source": [
    "def get_spatial_dic(protein,structure):\n",
    "    if len(protein) == len(structure):\n",
    "        x = 0\n",
    "        y = 0\n",
    "        protein = list(protein)\n",
    "        structure = list(structure)\n",
    "        dic = {(x,y):protein[0]}\n",
    "        coord = {'N':(0,1),'S':(0,-1),'E':(1,0),'W':(-1,0)}\n",
    "        for i in range(1,len(protein)):\n",
    "            x += coord[structure[i]][0]\n",
    "            y += coord[structure[i]][1]\n",
    "            if((x,y) in dic):\n",
    "                return {}\n",
    "            else:\n",
    "                dic[(x,y)] = protein[i]\n",
    "        return dic\n",
    "    else:\n",
    "        raise NameError('La cadena de proteínas y la estructura no tienen el mismo tamaño.')"
   ]
  },
  {
   "cell_type": "markdown",
   "metadata": {},
   "source": [
    "Para comprobar el correcto funcionamiento de la función, haremos varias pruebas:\n",
    "\n",
    "* Caso 1: en el primer caso de prueba podemos ver que se le pasa como parámetros tanto una estructura válida como una proteína válida, por lo que debe devolver el diccionario correctamente. \n",
    "* Caso 2: en el segundo caso de prueba se le pasa como parámetro una proteína y una estructura la cual contiene solapamiento, por lo que nos encontramos ante un test negativo, el cual debe devolver un diccionario vacío al contener solapamiento.\n",
    "\n",
    "Cabe destacar que la función anterior siempre da por hecho que la proteína que se le pasa es correcta, es decir, que todos los aminoácidos existen. Si por ejemplo, añadimos una proteína con aminoácido 'Z', la función lo añadirá sin saber que no existe.\n",
    "\n",
    "Aunque la función tenga este problema, para nuestro caso no es significativo, ya que, para el uso que le damos, siempre se le pasan tanto proteínas válidas como estructuras válidas."
   ]
  },
  {
   "cell_type": "code",
   "execution_count": 3,
   "metadata": {},
   "outputs": [
    {
     "data": {
      "text/plain": [
       "{(0, 0): 'A',\n",
       " (1, 0): 'N',\n",
       " (2, 0): 'C',\n",
       " (2, 1): 'E',\n",
       " (2, 2): 'A',\n",
       " (1, 2): 'N',\n",
       " (1, 3): 'C',\n",
       " (1, 4): 'E'}"
      ]
     },
     "execution_count": 3,
     "metadata": {},
     "output_type": "execute_result"
    }
   ],
   "source": [
    "protein = \"ANCEANCE\"\n",
    "structure = \"IEENNWNN\"\n",
    "get_spatial_dic(protein,structure)"
   ]
  },
  {
   "cell_type": "code",
   "execution_count": 4,
   "metadata": {},
   "outputs": [
    {
     "data": {
      "text/plain": [
       "{}"
      ]
     },
     "execution_count": 4,
     "metadata": {},
     "output_type": "execute_result"
    }
   ],
   "source": [
    "protein = \"ANCEANCE\"\n",
    "structure = \"IEENNWSS\"\n",
    "get_spatial_dic(protein,structure)"
   ]
  },
  {
   "cell_type": "markdown",
   "metadata": {},
   "source": [
    "### Problema 2.\n",
    "Se pide implementar las siguientes funciones:\n",
    "* is_hydrophobic(aa): la cual devuelve true si es hidrofóbica y false en caso contrario\n",
    "* get_score(dic): que reciba un diccionario representando la estructura espacial de una proteína y devuelva su puntuación. La puntuación de un aminoácido erá ΔG * N (si el aminoácido no es hidrofóbico) y ΔG * N + 10 * N (si el aminoácido es hidrofóbico). Siendo N el número de posiciones adyacentes libres."
   ]
  },
  {
   "cell_type": "code",
   "execution_count": 5,
   "metadata": {},
   "outputs": [],
   "source": [
    "aa_deltaG = {'A': 1,'C': 0.17,'D': -3,'E': -2.6,'F': 2.5,'G': 0.67,'H': -1.7,'I': 3.1,'K': -4.6,'L': 2.2,\n",
    "                 'M': 1.1,'N': -2.7,'P': -0.29,'Q': -2.9,'R': -7.5,'S': -1.1,'T': -0.75,'V': 2.3,'W': 1.5,'Y': 0.08}"
   ]
  },
  {
   "cell_type": "markdown",
   "metadata": {},
   "source": [
    "A continuación creamos la función is_hydrophobic, la cual devuelve true si el aminoácido correspondiente es hidrofóbico, es decir, si su variación energía es mayor a -1,5 o false en caso contrario"
   ]
  },
  {
   "cell_type": "code",
   "execution_count": 6,
   "metadata": {},
   "outputs": [],
   "source": [
    "def is_hydrophobic(aa):\n",
    "    return aa_deltaG[aa]>-1.5"
   ]
  },
  {
   "cell_type": "markdown",
   "metadata": {},
   "source": [
    "Seguidamente realizamos algunos tests de la función is_hydrophobic(aa), donde:\n",
    "* Caso 1: en este caso debe devolver false ya que no es hidrofóbica.\n",
    "* Caso 2: en este caso debe devolver true ya que es hidrofóbica.\n"
   ]
  },
  {
   "cell_type": "code",
   "execution_count": 7,
   "metadata": {},
   "outputs": [
    {
     "name": "stdout",
     "output_type": "stream",
     "text": [
      "False\n",
      "True\n"
     ]
    }
   ],
   "source": [
    "test_ej2_case_1 = is_hydrophobic('D') # Test positivo\n",
    "test_ej2_case_2 = is_hydrophobic('A') # Test positivo \n",
    "\n",
    "print(test_ej2_case_1)\n",
    "print(test_ej2_case_2)"
   ]
  },
  {
   "cell_type": "markdown",
   "metadata": {},
   "source": [
    "Una vez comprobado el correcto funcionamiento de la función is_hydrophobic, se implementa la función get_score(dic). \n",
    "Para calcular la puntuación de la proteína correspondiente, se recorre el diccionario que se le pasa como parámetro comprobando el número de coordenadas libres que hay alrededor de cada aminoácido con la función auxiliar get_free_adj y calculando su puntuación dependiendo de si es hidrofóbico o no."
   ]
  },
  {
   "cell_type": "code",
   "execution_count": 8,
   "metadata": {},
   "outputs": [],
   "source": [
    "def get_free_adj(aa, dic):\n",
    "    N = 4\n",
    "    x = aa[0]\n",
    "    y = aa[1]\n",
    "    coord = [(0,1),(0,-1),(1,0),(-1,0)]\n",
    "    for i in coord:\n",
    "        if (x + i[0], y + i[1]) in dic:\n",
    "            N -= 1\n",
    "    return N"
   ]
  },
  {
   "cell_type": "code",
   "execution_count": 9,
   "metadata": {},
   "outputs": [],
   "source": [
    "def get_score(dic):\n",
    "    punt = 0\n",
    "    for aa in dic:\n",
    "        N = get_free_adj(aa,dic)\n",
    "        ΔG = aa_deltaG[dic[aa]]\n",
    "        if is_hydrophobic(dic[aa]):\n",
    "            punt += ΔG * N + 10 * N\n",
    "        else:\n",
    "            punt += ΔG * N\n",
    "    return punt"
   ]
  },
  {
   "cell_type": "markdown",
   "metadata": {},
   "source": [
    "Acto seguido realizamos algunos tests de la función get_score(dic) para revisar que funciona correctamente.\n"
   ]
  },
  {
   "cell_type": "code",
   "execution_count": 10,
   "metadata": {},
   "outputs": [
    {
     "name": "stdout",
     "output_type": "stream",
     "text": [
      "31.140000000000004\n",
      "138.26999999999998\n"
     ]
    }
   ],
   "source": [
    "dic_ej2_case_3 = get_spatial_dic(\"ACDE\",\"IWNE\") \n",
    "test_ej2_case_3 = get_score(dic_ej2_case_3)\n",
    "print(test_ej2_case_3)\n",
    "\n",
    "dic_ej2_case_4 = get_spatial_dic(\"MLKVNEYFAG\",\"IWNEEENEEE\") \n",
    "test_ej2_case_4 = get_score(dic_ej2_case_4)\n",
    "print(test_ej2_case_4)"
   ]
  },
  {
   "cell_type": "markdown",
   "metadata": {},
   "source": [
    "### Problema 3\n",
    "Se pide lo siguiente: \n",
    "* Se pide implementar una función fold(structure, pos, angle) que recibe una estructura, una posición de plegado (desde donde se comienza a plegar) y el ángulo que puede ser 90 o –90.\n",
    "* Se pide implementar una función get_successors(protein,structure) que, dada una proteína y su estructura, devuelva un diccionario cuyas claves son todas las posibles estructuras válidas tras aplicar todos los posibles plegamientos y cuyos valores sean los correspondientes diccionarios espaciales obtenidos con get_spatial_dic."
   ]
  },
  {
   "cell_type": "markdown",
   "metadata": {},
   "source": [
    "A continuación creamos la función fold que devolverá la estructura tras aplicar el plegado indicado por la posición y el ángulo que se le pasan como parámetros. \n",
    "En primer lugar se crea una copia de la estructura inicial que se va actualizando con los valores nuevos tras el plegado. Esta actualización se realiza desde la posición de plegado hasta el final de la estructura y dependerá del ángulo que se haya indicado. "
   ]
  },
  {
   "cell_type": "markdown",
   "metadata": {},
   "source": [
    "Si el ángulo es de 90:\n",
    "\n",
    "* N -> W\n",
    "* S -> E\n",
    "* E -> N\n",
    "* W -> S\n",
    "\n",
    "Si el ángulo es de -90:\n",
    "\n",
    "* N -> E\n",
    "* S -> W\n",
    "* E -> S\n",
    "* W -> N\n"
   ]
  },
  {
   "cell_type": "markdown",
   "metadata": {},
   "source": [
    "Cabe destacar que si la posición de plegado que recibe es superior a la longitud de la estructura, el resultado sería la estructura inicial dada."
   ]
  },
  {
   "cell_type": "code",
   "execution_count": 11,
   "metadata": {},
   "outputs": [],
   "source": [
    "def fold(structure, pos, angle):\n",
    "    coord = ['N','S','E','W']\n",
    "    structure = list(structure)\n",
    "    fold = structure.copy()\n",
    "    if angle == 90:\n",
    "        next_coord = {'N':'W','S':'E','E':'N','W':'S'}\n",
    "    else: \n",
    "        next_coord = {'N':'E','S':'W','E':'S','W':'N'}\n",
    "        \n",
    "    for i in range(pos,len(structure)):\n",
    "        fold[i] = next_coord[structure[i]]\n",
    "    \n",
    "    return \"\".join(fold)"
   ]
  },
  {
   "cell_type": "markdown",
   "metadata": {},
   "source": [
    "La función get_successors va realizando todos los posibles plegamientos desde la posición 1 hasta la última posición de la estructura con ambos ángulos (90 y -90). Tras realizar cada plegamiento obtiene el diccionario espacial y si es válido lo guarda. Finalmente devuelve un diccionario con todos los diccionarios espaciales válidos. "
   ]
  },
  {
   "cell_type": "code",
   "execution_count": 12,
   "metadata": {},
   "outputs": [],
   "source": [
    "def get_successors(protein,structure):\n",
    "    dic = {}\n",
    "    folds = []\n",
    "    angle = [-90,90]\n",
    "    for i in range(1,len(structure)):\n",
    "        for a in angle:\n",
    "            f = fold(structure,i,a)\n",
    "            spatial_dic = get_spatial_dic(protein,f) \n",
    "            if(len(spatial_dic)!= 0):\n",
    "                dic[f] = spatial_dic\n",
    "    return dic"
   ]
  },
  {
   "cell_type": "markdown",
   "metadata": {},
   "source": [
    "Seguidamente realizamos algunas pruebas con las funciones fold y get_successors:"
   ]
  },
  {
   "cell_type": "code",
   "execution_count": 13,
   "metadata": {},
   "outputs": [
    {
     "name": "stdout",
     "output_type": "stream",
     "text": [
      "IEEENNN\n",
      "IEEESSS\n",
      "IEENENW\n",
      "IEENNNW\n",
      "INNWWSE\n"
     ]
    }
   ],
   "source": [
    "test_ej3_case1 = fold('IEEEEEE',4,90)\n",
    "test_ej3_case2 = fold('IEEEEEE',4,-90)\n",
    "test_ej3_case3 = fold('IEENNWS',4,-90)\n",
    "test_ej3_case4 = fold('IEENNWS',5,-90)\n",
    "test_ej3_case5 = fold('IEENNWS',1,90)\n",
    "\n",
    "print(test_ej3_case1)\n",
    "print(test_ej3_case2)\n",
    "print(test_ej3_case3)\n",
    "print(test_ej3_case4)\n",
    "print(test_ej3_case5)"
   ]
  },
  {
   "cell_type": "code",
   "execution_count": 14,
   "metadata": {},
   "outputs": [
    {
     "name": "stdout",
     "output_type": "stream",
     "text": [
      "{'ISSENNE': {(0, 0): 'P', (0, -1): 'E', (0, -2): 'P', (1, -2): 'T', (1, -1): 'I', (1, 0): 'D', (2, 0): 'E'}, 'INNWSSW': {(0, 0): 'P', (0, 1): 'E', (0, 2): 'P', (-1, 2): 'T', (-1, 1): 'I', (-1, 0): 'D', (-2, 0): 'E'}, 'IESENNE': {(0, 0): 'P', (1, 0): 'E', (1, -1): 'P', (2, -1): 'T', (2, 0): 'I', (2, 1): 'D', (3, 1): 'E'}, 'IEEENNE': {(0, 0): 'P', (1, 0): 'E', (2, 0): 'P', (3, 0): 'T', (3, 1): 'I', (3, 2): 'D', (4, 2): 'E'}, 'IEENNNE': {(0, 0): 'P', (1, 0): 'E', (2, 0): 'P', (2, 1): 'T', (2, 2): 'I', (2, 3): 'D', (3, 3): 'E'}, 'IEENWNE': {(0, 0): 'P', (1, 0): 'E', (2, 0): 'P', (2, 1): 'T', (1, 1): 'I', (1, 2): 'D', (2, 2): 'E'}, 'IEENWWW': {(0, 0): 'P', (1, 0): 'E', (2, 0): 'P', (2, 1): 'T', (1, 1): 'I', (0, 1): 'D', (-1, 1): 'E'}}\n"
     ]
    }
   ],
   "source": [
    "test_ej3_case6 = get_successors('PEPTIDE', 'IEENWWN')\n",
    "print(test_ej3_case6)"
   ]
  },
  {
   "cell_type": "markdown",
   "metadata": {},
   "source": [
    "### Problema 4.\n",
    "Usando las funciones creadas en los problemas anteriores, implementa el algoritmo de Enfriamiento Simulado (Simmulating Annealing) para resolver el problema del plegado 2D como un problema de optimización."
   ]
  },
  {
   "cell_type": "markdown",
   "metadata": {},
   "source": [
    "Para implementar el algoritmo de Enfriamiento Simulado se van a crear dos funciones auxiliares:\n",
    "    \n",
    "* initial_state: recibe una proteína y devuelve una estructura inicial.\n",
    "* get_successor: recibe una proteína y su estructura y aplica un plegamiento aleatorio. Finalmente devuelve la estructura tras el plegamiento y el diccionario espacial de esa proteína."
   ]
  },
  {
   "cell_type": "code",
   "execution_count": 15,
   "metadata": {},
   "outputs": [],
   "source": [
    "def initial_state(protein):\n",
    "    structure = \"I\"\n",
    "    i = 1\n",
    "    for i in range(1,len(protein)):\n",
    "        structure = structure + \"E\"\n",
    "    return structure"
   ]
  },
  {
   "cell_type": "code",
   "execution_count": 16,
   "metadata": {},
   "outputs": [],
   "source": [
    "def get_successor(protein,structure):\n",
    "    candidate_dic = {}\n",
    "    while len(candidate_dic)==0:\n",
    "        candidate = fold(structure,random.randint(1,len(structure)),random.choice([-90,90]))\n",
    "        candidate_dic = get_spatial_dic(protein,candidate) \n",
    "    return (candidate,candidate_dic)"
   ]
  },
  {
   "cell_type": "markdown",
   "metadata": {},
   "source": [
    "Tras crear las funciones auxiliares implementaremos el algoritmo de Enfriamiento Simulado. Este recibirá como parámetros la proteína, una temperatura inicial, factor de descenso, número de enfriamientos y número de iteraciones. En primer lugar se crean unas variables:\n",
    "\n",
    "* temperature: Temperatura actual, al inicio tomará el valor dado como parámetro.\n",
    "* act_state: Estructura actual, al comienzo del algoritmo su valor será el obtenido por la función initial_state.\n",
    "* act_value: Puntuación actual, se obtiene de la función get_score con la estructura actual.\n",
    "* best_state: Mejor estructura hasta el momento.\n",
    "* best_value: Mejor puntuación hasta el momento. (Estamos minimizando así que el valor será mejor cuanto menor sea)\n",
    "\n",
    "Se crearán dos bucles uno dentro de otro. El primero se iterará el número de veces indicado por el número de enfriamientos dado como parámetro. Dentro de este, hay otro bucle que se iterará el número de veces indicada en el número de iteraciones. En este segundo bucle, se obtiene un candidato a partir de la función get_successor y se calcula su puntuación. Una vez calculada:\n",
    "\n",
    "   * Si la puntuación del candidato es menor que la actual: se actualiza la estructura y el valor actual con el del candidato.\n",
    "   * Si la puntuación del candidato es mayor: se actualizará la estructura y el valor actual de manera probabilística. La probabilidad de que se actualicen los valores actuales será menor a medida que disminuya la temperatura.\n",
    "\n",
    "Tras esto, se comprueba si el valor actual es mejor que el almacenado en best_value y si es así se actualiza.\n",
    "\n",
    "Tras la ejecución del bucle interno se disminuye la temperatura con el factor de descenso.\n",
    "\n",
    "Por último se devuelve el diccionario espacial obtenido a partir del mejor estado."
   ]
  },
  {
   "cell_type": "code",
   "execution_count": 17,
   "metadata": {},
   "outputs": [],
   "source": [
    "def simmulating_anneling(protein,ini_temperature,discount_factor, n_enfrent,n_iter):\n",
    "    ini = time.time()\n",
    "    temperature = ini_temperature\n",
    "    act_state = initial_state(protein)\n",
    "    act_value = get_score(get_spatial_dic(protein,act_state))\n",
    "    best_state = act_state\n",
    "    best_value = act_value\n",
    "    \n",
    "    for i in range(n_enfrent):\n",
    "        print(str(i+1)+\"- Temperature: \"+str(temperature)+\" Best score: \"+str(best_value))\n",
    "\n",
    "        for j in range(n_iter):\n",
    "            successor =  get_successor(protein,act_state)\n",
    "            candidate = successor[0]\n",
    "            candidate_value = get_score(successor[1])\n",
    "            increment = candidate_value - act_value\n",
    "\n",
    "            if increment < 0:\n",
    "                act_state = candidate\n",
    "                act_value = candidate_value\n",
    "            else:\n",
    "                q = min(1,pow(e,-increment/temperature))\n",
    "                if random.randint(0,1) < q:\n",
    "                    act_state = candidate\n",
    "                    act_value = candidate_value\n",
    "\n",
    "            if act_value < best_value:\n",
    "                best_state = act_state\n",
    "                best_value = act_value   \n",
    "\n",
    "        temperature = temperature*discount_factor\n",
    "    fin = time.time()\n",
    "    print(fin-ini)\n",
    "    return get_spatial_dic(protein,best_state)"
   ]
  },
  {
   "cell_type": "markdown",
   "metadata": {},
   "source": [
    "### Problema 5\n",
    "Dada una proteína podemos predecir un plegamiento 2D de la misma gracias a los algoritmos implementados durante el desarrollo de este trabajo.\n",
    "* Se pide probar estos algoritmos con al menos otras tres proteínas sencillas cuya secuencia de aminoácidos y descripción sea extraída desde UNIPROT.\n",
    "* Se pide hacer una representación gráfica de las estructuras 2D resultante con pyplot. Coloreando de distinto color los aminoácidos dependiendo de si son hidrofóbicos o no.\n",
    "* Por último, OPCIONALMENTE para optar a nota extra, se pide intentar implementar un gradiente de color dependiendo del valor ΔG del correspondiente aminoácido."
   ]
  },
  {
   "cell_type": "markdown",
   "metadata": {},
   "source": [
    "Probamos el algoritmo anterior con tres proteínas diferentes:\n",
    "\n",
    "La primera proteína será la que tiene como entrada 'Q6LAP7' extraída de https://www.uniprot.org/uniprot/Q6LAP7, llamada \"Glucose-6-phosphatase\" del organismo del Homo Sapiens (Humano):"
   ]
  },
  {
   "cell_type": "code",
   "execution_count": 18,
   "metadata": {},
   "outputs": [
    {
     "name": "stdout",
     "output_type": "stream",
     "text": [
      "1- Temperature: 100 Best score: 157.64999999999998\n",
      "2- Temperature: 95.0 Best score: 71.01\n",
      "3- Temperature: 90.25 Best score: 55.94\n",
      "4- Temperature: 85.7375 Best score: 55.94\n",
      "5- Temperature: 81.45062499999999 Best score: 55.94\n",
      "6- Temperature: 77.37809374999999 Best score: 55.94\n",
      "7- Temperature: 73.50918906249998 Best score: 55.94\n",
      "8- Temperature: 69.83372960937498 Best score: 55.94\n",
      "9- Temperature: 66.34204312890623 Best score: 55.94\n",
      "10- Temperature: 63.02494097246091 Best score: 55.94\n",
      "11- Temperature: 59.87369392383786 Best score: 55.94\n",
      "12- Temperature: 56.880009227645964 Best score: 55.94\n",
      "13- Temperature: 54.03600876626366 Best score: 55.94\n",
      "14- Temperature: 51.33420832795048 Best score: 55.94\n",
      "15- Temperature: 48.76749791155295 Best score: 55.94\n",
      "16- Temperature: 46.3291230159753 Best score: 55.94\n",
      "17- Temperature: 44.012666865176534 Best score: 55.94\n",
      "18- Temperature: 41.812033521917705 Best score: 55.94\n",
      "19- Temperature: 39.72143184582182 Best score: 55.94\n",
      "20- Temperature: 37.73536025353073 Best score: 55.94\n",
      "21- Temperature: 35.84859224085419 Best score: 55.94\n",
      "22- Temperature: 34.05616262881148 Best score: 55.94\n",
      "23- Temperature: 32.3533544973709 Best score: 55.94\n",
      "24- Temperature: 30.735686772502355 Best score: 55.94\n",
      "25- Temperature: 29.198902433877237 Best score: 55.94\n",
      "26- Temperature: 27.738957312183373 Best score: 55.94\n",
      "27- Temperature: 26.352009446574204 Best score: 55.94\n",
      "28- Temperature: 25.034408974245494 Best score: 55.94\n",
      "29- Temperature: 23.782688525533217 Best score: 55.94\n",
      "30- Temperature: 22.593554099256554 Best score: 55.94\n",
      "31- Temperature: 21.463876394293724 Best score: 55.94\n",
      "32- Temperature: 20.390682574579035 Best score: 55.94\n",
      "33- Temperature: 19.371148445850082 Best score: 55.94\n",
      "34- Temperature: 18.402591023557576 Best score: 55.94\n",
      "35- Temperature: 17.482461472379697 Best score: 55.94\n",
      "36- Temperature: 16.60833839876071 Best score: 55.94\n",
      "37- Temperature: 15.777921478822675 Best score: 55.94\n",
      "38- Temperature: 14.98902540488154 Best score: 55.94\n",
      "39- Temperature: 14.239574134637461 Best score: 55.94\n",
      "40- Temperature: 13.527595427905588 Best score: 55.94\n",
      "41- Temperature: 12.851215656510307 Best score: 55.94\n",
      "42- Temperature: 12.208654873684791 Best score: 55.94\n",
      "43- Temperature: 11.59822213000055 Best score: 55.94\n",
      "44- Temperature: 11.018311023500523 Best score: 55.94\n",
      "45- Temperature: 10.467395472325496 Best score: 55.94\n",
      "46- Temperature: 9.94402569870922 Best score: 55.94\n",
      "47- Temperature: 9.44682441377376 Best score: 55.94\n",
      "48- Temperature: 8.97448319308507 Best score: 55.94\n",
      "49- Temperature: 8.525759033430816 Best score: 55.94\n",
      "50- Temperature: 8.099471081759274 Best score: 55.94\n",
      "51- Temperature: 7.69449752767131 Best score: 55.94\n",
      "52- Temperature: 7.309772651287744 Best score: 55.94\n",
      "53- Temperature: 6.944284018723357 Best score: 55.94\n",
      "54- Temperature: 6.5970698177871885 Best score: 55.94\n",
      "55- Temperature: 6.267216326897829 Best score: 55.94\n",
      "56- Temperature: 5.953855510552938 Best score: 55.94\n",
      "57- Temperature: 5.6561627350252905 Best score: 55.94\n",
      "58- Temperature: 5.373354598274026 Best score: 55.94\n",
      "59- Temperature: 5.104686868360324 Best score: 55.94\n",
      "60- Temperature: 4.849452524942308 Best score: 55.94\n",
      "61- Temperature: 4.606979898695192 Best score: 55.94\n",
      "62- Temperature: 4.376630903760432 Best score: 55.94\n",
      "63- Temperature: 4.157799358572411 Best score: 55.94\n",
      "64- Temperature: 3.94990939064379 Best score: 55.94\n",
      "65- Temperature: 3.7524139211116005 Best score: 55.94\n",
      "66- Temperature: 3.5647932250560204 Best score: 55.94\n",
      "67- Temperature: 3.3865535638032194 Best score: 55.94\n",
      "68- Temperature: 3.2172258856130584 Best score: 55.94\n",
      "69- Temperature: 3.0563645913324056 Best score: 55.94\n",
      "70- Temperature: 2.9035463617657853 Best score: 55.94\n",
      "71- Temperature: 2.758369043677496 Best score: 55.94\n",
      "72- Temperature: 2.620450591493621 Best score: 55.94\n",
      "73- Temperature: 2.48942806191894 Best score: 55.94\n",
      "74- Temperature: 2.364956658822993 Best score: 55.94\n",
      "75- Temperature: 2.2467088258818433 Best score: 55.94\n",
      "76- Temperature: 2.134373384587751 Best score: 43.47\n",
      "77- Temperature: 2.0276547153583633 Best score: 43.47\n",
      "78- Temperature: 1.926271979590445 Best score: 43.47\n",
      "79- Temperature: 1.8299583806109228 Best score: 43.47\n",
      "80- Temperature: 1.7384604615803765 Best score: 43.47\n",
      "81- Temperature: 1.6515374385013575 Best score: 43.47\n",
      "82- Temperature: 1.5689605665762896 Best score: 43.47\n",
      "83- Temperature: 1.490512538247475 Best score: 43.47\n",
      "84- Temperature: 1.4159869113351014 Best score: 43.47\n",
      "85- Temperature: 1.3451875657683463 Best score: 43.47\n",
      "86- Temperature: 1.2779281874799289 Best score: 43.47\n",
      "87- Temperature: 1.2140317781059324 Best score: 43.47\n",
      "88- Temperature: 1.1533301892006358 Best score: 43.47\n",
      "89- Temperature: 1.0956636797406039 Best score: 43.47\n",
      "90- Temperature: 1.0408804957535736 Best score: 43.47\n",
      "91- Temperature: 0.9888364709658948 Best score: 43.47\n",
      "92- Temperature: 0.9393946474176 Best score: 43.47\n",
      "93- Temperature: 0.89242491504672 Best score: 43.47\n",
      "94- Temperature: 0.8478036692943839 Best score: 43.47\n",
      "95- Temperature: 0.8054134858296647 Best score: 43.47\n",
      "96- Temperature: 0.7651428115381814 Best score: 43.47\n",
      "97- Temperature: 0.7268856709612723 Best score: 43.47\n",
      "98- Temperature: 0.6905413874132087 Best score: 43.47\n",
      "99- Temperature: 0.6560143180425483 Best score: 43.47\n",
      "100- Temperature: 0.6232136021404209 Best score: 43.47\n",
      "2.187023401260376\n",
      "{(0, 0): 'M', (0, 1): 'E', (-1, 1): 'E', (-1, 0): 'G', (-2, 0): 'M', (-2, -1): 'N', (-1, -1): 'V', (-1, -2): 'L', (-1, -3): 'H', (0, -3): 'D', (0, -2): 'F', (0, -1): 'G'}\n"
     ]
    }
   ],
   "source": [
    "Q6LAP7 = 'MEEGMNVLHDFG'\n",
    "Q6LAP7_dic = simmulating_anneling(Q6LAP7, 100, 0.95, 100, 200)\n",
    "print(Q6LAP7_dic)"
   ]
  },
  {
   "cell_type": "markdown",
   "metadata": {},
   "source": [
    "La segunda proteína tiene en Uniprot como nombre de entrada 'P01308', extraída de https://www.uniprot.org/uniprot/P01308, con nombre 'Insulin' y del organismo 'Homo sapiens (Human)':"
   ]
  },
  {
   "cell_type": "code",
   "execution_count": 19,
   "metadata": {},
   "outputs": [
    {
     "name": "stdout",
     "output_type": "stream",
     "text": [
      "1- Temperature: 100 Best score: 1590.9799999999998\n",
      "2- Temperature: 95.0 Best score: 1078.42\n",
      "3- Temperature: 90.25 Best score: 1020.4499999999999\n",
      "4- Temperature: 85.7375 Best score: 1020.4499999999999\n",
      "5- Temperature: 81.45062499999999 Best score: 910.62\n",
      "6- Temperature: 77.37809374999999 Best score: 910.62\n",
      "7- Temperature: 73.50918906249998 Best score: 910.62\n",
      "8- Temperature: 69.83372960937498 Best score: 899.7999999999997\n",
      "9- Temperature: 66.34204312890623 Best score: 896.5899999999993\n",
      "10- Temperature: 63.02494097246091 Best score: 896.5899999999993\n",
      "11- Temperature: 59.87369392383786 Best score: 896.5899999999993\n",
      "12- Temperature: 56.880009227645964 Best score: 896.5899999999993\n",
      "13- Temperature: 54.03600876626366 Best score: 896.5899999999993\n",
      "14- Temperature: 51.33420832795048 Best score: 896.5899999999993\n",
      "15- Temperature: 48.76749791155295 Best score: 896.5899999999993\n",
      "16- Temperature: 46.3291230159753 Best score: 896.5899999999993\n",
      "17- Temperature: 44.012666865176534 Best score: 896.5899999999993\n",
      "18- Temperature: 41.812033521917705 Best score: 882.1700000000001\n",
      "19- Temperature: 39.72143184582182 Best score: 882.1700000000001\n",
      "20- Temperature: 37.73536025353073 Best score: 882.1700000000001\n",
      "21- Temperature: 35.84859224085419 Best score: 782.5199999999999\n",
      "22- Temperature: 34.05616262881148 Best score: 782.5199999999999\n",
      "23- Temperature: 32.3533544973709 Best score: 782.5199999999999\n",
      "24- Temperature: 30.735686772502355 Best score: 782.5199999999999\n",
      "25- Temperature: 29.198902433877237 Best score: 782.5199999999999\n",
      "26- Temperature: 27.738957312183373 Best score: 782.5199999999999\n",
      "27- Temperature: 26.352009446574204 Best score: 782.5199999999999\n",
      "28- Temperature: 25.034408974245494 Best score: 782.5199999999999\n",
      "29- Temperature: 23.782688525533217 Best score: 782.5199999999999\n",
      "30- Temperature: 22.593554099256554 Best score: 782.5199999999999\n",
      "31- Temperature: 21.463876394293724 Best score: 782.5199999999999\n",
      "32- Temperature: 20.390682574579035 Best score: 782.5199999999999\n",
      "33- Temperature: 19.371148445850082 Best score: 782.5199999999999\n",
      "34- Temperature: 18.402591023557576 Best score: 782.5199999999999\n",
      "35- Temperature: 17.482461472379697 Best score: 782.5199999999999\n",
      "36- Temperature: 16.60833839876071 Best score: 782.5199999999999\n",
      "37- Temperature: 15.777921478822675 Best score: 782.5199999999999\n",
      "38- Temperature: 14.98902540488154 Best score: 782.5199999999999\n",
      "39- Temperature: 14.239574134637461 Best score: 782.5199999999999\n",
      "40- Temperature: 13.527595427905588 Best score: 782.5199999999999\n",
      "41- Temperature: 12.851215656510307 Best score: 782.5199999999999\n",
      "42- Temperature: 12.208654873684791 Best score: 782.5199999999999\n",
      "43- Temperature: 11.59822213000055 Best score: 782.5199999999999\n",
      "44- Temperature: 11.018311023500523 Best score: 782.5199999999999\n",
      "45- Temperature: 10.467395472325496 Best score: 782.5199999999999\n",
      "46- Temperature: 9.94402569870922 Best score: 782.5199999999999\n",
      "47- Temperature: 9.44682441377376 Best score: 782.5199999999999\n",
      "48- Temperature: 8.97448319308507 Best score: 782.5199999999999\n",
      "49- Temperature: 8.525759033430816 Best score: 782.5199999999999\n",
      "50- Temperature: 8.099471081759274 Best score: 782.5199999999999\n",
      "51- Temperature: 7.69449752767131 Best score: 782.5199999999999\n",
      "52- Temperature: 7.309772651287744 Best score: 782.5199999999999\n",
      "53- Temperature: 6.944284018723357 Best score: 782.5199999999999\n",
      "54- Temperature: 6.5970698177871885 Best score: 782.5199999999999\n",
      "55- Temperature: 6.267216326897829 Best score: 782.5199999999999\n",
      "56- Temperature: 5.953855510552938 Best score: 782.5199999999999\n",
      "57- Temperature: 5.6561627350252905 Best score: 782.5199999999999\n",
      "58- Temperature: 5.373354598274026 Best score: 782.5199999999999\n",
      "59- Temperature: 5.104686868360324 Best score: 782.5199999999999\n",
      "60- Temperature: 4.849452524942308 Best score: 782.5199999999999\n",
      "61- Temperature: 4.606979898695192 Best score: 782.5199999999999\n",
      "62- Temperature: 4.376630903760432 Best score: 782.5199999999999\n",
      "63- Temperature: 4.157799358572411 Best score: 782.5199999999999\n",
      "64- Temperature: 3.94990939064379 Best score: 782.5199999999999\n",
      "65- Temperature: 3.7524139211116005 Best score: 782.5199999999999\n",
      "66- Temperature: 3.5647932250560204 Best score: 782.5199999999999\n",
      "67- Temperature: 3.3865535638032194 Best score: 782.5199999999999\n",
      "68- Temperature: 3.2172258856130584 Best score: 782.5199999999999\n",
      "69- Temperature: 3.0563645913324056 Best score: 782.5199999999999\n",
      "70- Temperature: 2.9035463617657853 Best score: 782.5199999999999\n",
      "71- Temperature: 2.758369043677496 Best score: 782.5199999999999\n",
      "72- Temperature: 2.620450591493621 Best score: 782.5199999999999\n",
      "73- Temperature: 2.48942806191894 Best score: 782.5199999999999\n",
      "74- Temperature: 2.364956658822993 Best score: 782.5199999999999\n",
      "75- Temperature: 2.2467088258818433 Best score: 782.5199999999999\n",
      "76- Temperature: 2.134373384587751 Best score: 782.5199999999999\n",
      "77- Temperature: 2.0276547153583633 Best score: 782.5199999999999\n",
      "78- Temperature: 1.926271979590445 Best score: 782.5199999999999\n",
      "79- Temperature: 1.8299583806109228 Best score: 782.5199999999999\n",
      "80- Temperature: 1.7384604615803765 Best score: 782.5199999999999\n",
      "81- Temperature: 1.6515374385013575 Best score: 782.5199999999999\n",
      "82- Temperature: 1.5689605665762896 Best score: 782.5199999999999\n",
      "83- Temperature: 1.490512538247475 Best score: 782.5199999999999\n",
      "84- Temperature: 1.4159869113351014 Best score: 782.5199999999999\n",
      "85- Temperature: 1.3451875657683463 Best score: 782.5199999999999\n",
      "86- Temperature: 1.2779281874799289 Best score: 782.5199999999999\n",
      "87- Temperature: 1.2140317781059324 Best score: 782.5199999999999\n",
      "88- Temperature: 1.1533301892006358 Best score: 782.5199999999999\n",
      "89- Temperature: 1.0956636797406039 Best score: 782.5199999999999\n",
      "90- Temperature: 1.0408804957535736 Best score: 782.5199999999999\n",
      "91- Temperature: 0.9888364709658948 Best score: 782.5199999999999\n",
      "92- Temperature: 0.9393946474176 Best score: 782.5199999999999\n",
      "93- Temperature: 0.89242491504672 Best score: 782.5199999999999\n",
      "94- Temperature: 0.8478036692943839 Best score: 782.5199999999999\n",
      "95- Temperature: 0.8054134858296647 Best score: 782.5199999999999\n",
      "96- Temperature: 0.7651428115381814 Best score: 782.5199999999999\n",
      "97- Temperature: 0.7268856709612723 Best score: 782.5199999999999\n",
      "98- Temperature: 0.6905413874132087 Best score: 782.5199999999999\n",
      "99- Temperature: 0.6560143180425483 Best score: 782.5199999999999\n",
      "100- Temperature: 0.6232136021404209 Best score: 782.5199999999999\n",
      "101- Temperature: 0.5920529220333998 Best score: 782.5199999999999\n",
      "102- Temperature: 0.5624502759317298 Best score: 782.5199999999999\n",
      "103- Temperature: 0.5343277621351433 Best score: 782.5199999999999\n",
      "104- Temperature: 0.5076113740283862 Best score: 782.5199999999999\n",
      "105- Temperature: 0.4822308053269668 Best score: 782.5199999999999\n",
      "106- Temperature: 0.45811926506061845 Best score: 782.5199999999999\n",
      "107- Temperature: 0.4352133018075875 Best score: 782.5199999999999\n",
      "108- Temperature: 0.4134526367172081 Best score: 782.5199999999999\n",
      "109- Temperature: 0.3927800048813477 Best score: 782.5199999999999\n",
      "110- Temperature: 0.3731410046372803 Best score: 782.5199999999999\n",
      "111- Temperature: 0.35448395440541625 Best score: 782.5199999999999\n",
      "112- Temperature: 0.3367597566851454 Best score: 782.5199999999999\n",
      "113- Temperature: 0.31992176885088813 Best score: 782.5199999999999\n",
      "114- Temperature: 0.3039256804083437 Best score: 782.5199999999999\n",
      "115- Temperature: 0.28872939638792655 Best score: 782.5199999999999\n",
      "116- Temperature: 0.2742929265685302 Best score: 782.5199999999999\n",
      "117- Temperature: 0.2605782802401037 Best score: 782.5199999999999\n",
      "118- Temperature: 0.2475493662280985 Best score: 782.5199999999999\n",
      "119- Temperature: 0.23517189791669357 Best score: 782.5199999999999\n",
      "120- Temperature: 0.22341330302085888 Best score: 782.5199999999999\n",
      "121- Temperature: 0.21224263786981593 Best score: 782.5199999999999\n",
      "122- Temperature: 0.20163050597632512 Best score: 782.5199999999999\n",
      "123- Temperature: 0.19154898067750886 Best score: 782.5199999999999\n",
      "124- Temperature: 0.18197153164363342 Best score: 782.5199999999999\n",
      "125- Temperature: 0.17287295506145173 Best score: 782.5199999999999\n",
      "126- Temperature: 0.16422930730837915 Best score: 782.5199999999999\n",
      "127- Temperature: 0.15601784194296017 Best score: 782.5199999999999\n"
     ]
    },
    {
     "name": "stdout",
     "output_type": "stream",
     "text": [
      "128- Temperature: 0.14821694984581216 Best score: 782.5199999999999\n",
      "129- Temperature: 0.14080610235352153 Best score: 782.5199999999999\n",
      "130- Temperature: 0.13376579723584545 Best score: 782.5199999999999\n",
      "131- Temperature: 0.12707750737405316 Best score: 782.5199999999999\n",
      "132- Temperature: 0.1207236320053505 Best score: 782.5199999999999\n",
      "133- Temperature: 0.11468745040508296 Best score: 782.5199999999999\n",
      "134- Temperature: 0.10895307788482882 Best score: 782.5199999999999\n",
      "135- Temperature: 0.10350542399058738 Best score: 782.5199999999999\n",
      "136- Temperature: 0.098330152791058 Best score: 782.5199999999999\n",
      "137- Temperature: 0.09341364515150509 Best score: 782.5199999999999\n",
      "138- Temperature: 0.08874296289392983 Best score: 782.5199999999999\n",
      "139- Temperature: 0.08430581474923333 Best score: 782.5199999999999\n",
      "140- Temperature: 0.08009052401177166 Best score: 782.5199999999999\n",
      "141- Temperature: 0.07608599781118308 Best score: 714.65\n",
      "142- Temperature: 0.07228169792062393 Best score: 714.65\n",
      "143- Temperature: 0.06866761302459273 Best score: 714.65\n",
      "144- Temperature: 0.0652342323733631 Best score: 714.65\n",
      "145- Temperature: 0.061972520754694935 Best score: 714.65\n",
      "146- Temperature: 0.05887389471696019 Best score: 714.65\n",
      "147- Temperature: 0.05593019998111218 Best score: 677.8400000000001\n",
      "148- Temperature: 0.053133689982056566 Best score: 600.54\n",
      "149- Temperature: 0.05047700548295374 Best score: 526.1699999999998\n",
      "150- Temperature: 0.047953155208806046 Best score: 427.40999999999997\n",
      "151- Temperature: 0.04555549744836574 Best score: 427.40999999999997\n",
      "152- Temperature: 0.043277722575947454 Best score: 427.40999999999997\n",
      "153- Temperature: 0.04111383644715008 Best score: 427.40999999999997\n",
      "154- Temperature: 0.039058144624792575 Best score: 427.40999999999997\n",
      "155- Temperature: 0.037105237393552946 Best score: 427.40999999999997\n",
      "156- Temperature: 0.0352499755238753 Best score: 427.40999999999997\n",
      "157- Temperature: 0.03348747674768154 Best score: 427.40999999999997\n",
      "158- Temperature: 0.03181310291029746 Best score: 427.40999999999997\n",
      "159- Temperature: 0.030222447764782584 Best score: 427.40999999999997\n",
      "160- Temperature: 0.028711325376543452 Best score: 427.40999999999997\n",
      "161- Temperature: 0.027275759107716277 Best score: 427.40999999999997\n",
      "162- Temperature: 0.025911971152330463 Best score: 427.40999999999997\n",
      "163- Temperature: 0.02461637259471394 Best score: 427.40999999999997\n",
      "164- Temperature: 0.02338555396497824 Best score: 427.40999999999997\n",
      "165- Temperature: 0.022216276266729326 Best score: 427.40999999999997\n",
      "166- Temperature: 0.02110546245339286 Best score: 427.40999999999997\n",
      "167- Temperature: 0.020050189330723216 Best score: 427.40999999999997\n",
      "168- Temperature: 0.019047679864187053 Best score: 427.40999999999997\n",
      "169- Temperature: 0.0180952958709777 Best score: 427.40999999999997\n",
      "170- Temperature: 0.017190531077428815 Best score: 427.40999999999997\n",
      "171- Temperature: 0.016331004523557374 Best score: 427.40999999999997\n",
      "172- Temperature: 0.015514454297379505 Best score: 427.40999999999997\n",
      "173- Temperature: 0.014738731582510529 Best score: 427.40999999999997\n",
      "174- Temperature: 0.014001795003385002 Best score: 427.40999999999997\n",
      "175- Temperature: 0.013301705253215751 Best score: 427.40999999999997\n",
      "176- Temperature: 0.012636619990554963 Best score: 427.40999999999997\n",
      "177- Temperature: 0.012004788991027214 Best score: 427.40999999999997\n",
      "178- Temperature: 0.011404549541475852 Best score: 427.40999999999997\n",
      "179- Temperature: 0.010834322064402059 Best score: 427.40999999999997\n",
      "180- Temperature: 0.010292605961181955 Best score: 427.40999999999997\n",
      "181- Temperature: 0.009777975663122856 Best score: 427.40999999999997\n",
      "182- Temperature: 0.009289076879966713 Best score: 427.40999999999997\n",
      "183- Temperature: 0.008824623035968376 Best score: 427.40999999999997\n",
      "184- Temperature: 0.008383391884169956 Best score: 427.40999999999997\n",
      "185- Temperature: 0.007964222289961458 Best score: 427.40999999999997\n",
      "186- Temperature: 0.007566011175463384 Best score: 427.40999999999997\n",
      "187- Temperature: 0.0071877106166902145 Best score: 427.40999999999997\n",
      "188- Temperature: 0.006828325085855703 Best score: 427.40999999999997\n",
      "189- Temperature: 0.006486908831562918 Best score: 427.40999999999997\n",
      "190- Temperature: 0.006162563389984772 Best score: 427.40999999999997\n",
      "191- Temperature: 0.005854435220485533 Best score: 427.40999999999997\n",
      "192- Temperature: 0.005561713459461257 Best score: 427.40999999999997\n",
      "193- Temperature: 0.005283627786488194 Best score: 427.40999999999997\n",
      "194- Temperature: 0.005019446397163784 Best score: 427.40999999999997\n",
      "195- Temperature: 0.004768474077305594 Best score: 427.40999999999997\n",
      "196- Temperature: 0.004530050373440314 Best score: 427.40999999999997\n",
      "197- Temperature: 0.004303547854768298 Best score: 427.40999999999997\n",
      "198- Temperature: 0.004088370462029883 Best score: 427.40999999999997\n",
      "199- Temperature: 0.0038839519389283887 Best score: 427.40999999999997\n",
      "200- Temperature: 0.003689754341981969 Best score: 427.40999999999997\n",
      "201- Temperature: 0.0035052666248828706 Best score: 427.40999999999997\n",
      "202- Temperature: 0.003330003293638727 Best score: 427.40999999999997\n",
      "203- Temperature: 0.0031635031289567904 Best score: 427.40999999999997\n",
      "204- Temperature: 0.003005327972508951 Best score: 427.40999999999997\n",
      "205- Temperature: 0.002855061573883503 Best score: 427.40999999999997\n",
      "206- Temperature: 0.002712308495189328 Best score: 427.40999999999997\n",
      "207- Temperature: 0.0025766930704298613 Best score: 427.40999999999997\n",
      "208- Temperature: 0.0024478584169083683 Best score: 427.40999999999997\n",
      "209- Temperature: 0.00232546549606295 Best score: 427.40999999999997\n",
      "210- Temperature: 0.002209192221259802 Best score: 427.40999999999997\n",
      "211- Temperature: 0.0020987326101968118 Best score: 427.40999999999997\n",
      "212- Temperature: 0.001993795979686971 Best score: 427.40999999999997\n",
      "213- Temperature: 0.0018941061807026224 Best score: 427.40999999999997\n",
      "214- Temperature: 0.001799400871667491 Best score: 427.40999999999997\n",
      "215- Temperature: 0.0017094308280841163 Best score: 427.40999999999997\n",
      "216- Temperature: 0.0016239592866799104 Best score: 427.40999999999997\n",
      "217- Temperature: 0.0015427613223459148 Best score: 427.40999999999997\n",
      "218- Temperature: 0.001465623256228619 Best score: 427.40999999999997\n",
      "219- Temperature: 0.001392342093417188 Best score: 427.40999999999997\n",
      "220- Temperature: 0.0013227249887463285 Best score: 427.40999999999997\n",
      "221- Temperature: 0.001256588739309012 Best score: 427.40999999999997\n",
      "222- Temperature: 0.0011937593023435612 Best score: 427.40999999999997\n",
      "223- Temperature: 0.001134071337226383 Best score: 427.40999999999997\n",
      "224- Temperature: 0.001077367770365064 Best score: 427.40999999999997\n",
      "225- Temperature: 0.0010234993818468107 Best score: 427.40999999999997\n",
      "226- Temperature: 0.00097232441275447 Best score: 427.40999999999997\n",
      "227- Temperature: 0.0009237081921167465 Best score: 427.40999999999997\n",
      "228- Temperature: 0.0008775227825109092 Best score: 427.40999999999997\n",
      "229- Temperature: 0.0008336466433853637 Best score: 427.40999999999997\n",
      "230- Temperature: 0.0007919643112160955 Best score: 427.40999999999997\n",
      "231- Temperature: 0.0007523660956552906 Best score: 427.40999999999997\n",
      "232- Temperature: 0.0007147477908725261 Best score: 427.40999999999997\n",
      "233- Temperature: 0.0006790104013288998 Best score: 427.40999999999997\n",
      "234- Temperature: 0.0006450598812624547 Best score: 427.40999999999997\n",
      "235- Temperature: 0.0006128068871993319 Best score: 427.40999999999997\n",
      "236- Temperature: 0.0005821665428393653 Best score: 427.40999999999997\n",
      "237- Temperature: 0.000553058215697397 Best score: 427.40999999999997\n",
      "238- Temperature: 0.0005254053049125271 Best score: 427.40999999999997\n",
      "239- Temperature: 0.0004991350396669008 Best score: 427.40999999999997\n",
      "240- Temperature: 0.0004741782876835557 Best score: 427.40999999999997\n",
      "241- Temperature: 0.0004504693732993779 Best score: 427.40999999999997\n",
      "242- Temperature: 0.000427945904634409 Best score: 427.40999999999997\n",
      "243- Temperature: 0.00040654860940268853 Best score: 427.40999999999997\n",
      "244- Temperature: 0.00038622117893255406 Best score: 427.40999999999997\n",
      "245- Temperature: 0.00036691011998592633 Best score: 427.40999999999997\n",
      "246- Temperature: 0.00034856461398663 Best score: 427.40999999999997\n"
     ]
    },
    {
     "name": "stdout",
     "output_type": "stream",
     "text": [
      "247- Temperature: 0.0003311363832872985 Best score: 427.40999999999997\n",
      "248- Temperature: 0.00031457956412293353 Best score: 427.40999999999997\n",
      "249- Temperature: 0.00029885058591678685 Best score: 427.40999999999997\n",
      "250- Temperature: 0.0002839080566209475 Best score: 427.40999999999997\n",
      "251- Temperature: 0.0002697126537899001 Best score: 427.40999999999997\n",
      "252- Temperature: 0.0002562270211004051 Best score: 427.40999999999997\n",
      "253- Temperature: 0.00024341567004538484 Best score: 427.40999999999997\n",
      "254- Temperature: 0.00023124488654311558 Best score: 427.40999999999997\n",
      "255- Temperature: 0.0002196826422159598 Best score: 427.40999999999997\n",
      "256- Temperature: 0.00020869851010516178 Best score: 427.40999999999997\n",
      "257- Temperature: 0.00019826358459990368 Best score: 427.40999999999997\n",
      "258- Temperature: 0.00018835040536990848 Best score: 427.40999999999997\n",
      "259- Temperature: 0.00017893288510141306 Best score: 427.40999999999997\n",
      "260- Temperature: 0.0001699862408463424 Best score: 427.40999999999997\n",
      "261- Temperature: 0.00016148692880402527 Best score: 427.40999999999997\n",
      "262- Temperature: 0.000153412582363824 Best score: 427.40999999999997\n",
      "263- Temperature: 0.0001457419532456328 Best score: 427.40999999999997\n",
      "264- Temperature: 0.00013845485558335117 Best score: 427.40999999999997\n",
      "265- Temperature: 0.0001315321128041836 Best score: 427.40999999999997\n",
      "266- Temperature: 0.00012495550716397442 Best score: 427.40999999999997\n",
      "267- Temperature: 0.00011870773180577569 Best score: 427.40999999999997\n",
      "268- Temperature: 0.0001127723452154869 Best score: 427.40999999999997\n",
      "269- Temperature: 0.00010713372795471255 Best score: 427.40999999999997\n",
      "270- Temperature: 0.00010177704155697692 Best score: 427.40999999999997\n",
      "271- Temperature: 9.668818947912807e-05 Best score: 427.40999999999997\n",
      "272- Temperature: 9.185378000517166e-05 Best score: 427.40999999999997\n",
      "273- Temperature: 8.726109100491307e-05 Best score: 427.40999999999997\n",
      "274- Temperature: 8.289803645466741e-05 Best score: 427.40999999999997\n",
      "275- Temperature: 7.875313463193404e-05 Best score: 427.40999999999997\n",
      "276- Temperature: 7.481547790033734e-05 Best score: 427.40999999999997\n",
      "277- Temperature: 7.107470400532047e-05 Best score: 427.40999999999997\n",
      "278- Temperature: 6.752096880505445e-05 Best score: 427.40999999999997\n",
      "279- Temperature: 6.414492036480173e-05 Best score: 427.40999999999997\n",
      "280- Temperature: 6.0937674346561646e-05 Best score: 427.40999999999997\n",
      "281- Temperature: 5.789079062923356e-05 Best score: 427.40999999999997\n",
      "282- Temperature: 5.499625109777188e-05 Best score: 427.40999999999997\n",
      "283- Temperature: 5.224643854288328e-05 Best score: 427.40999999999997\n",
      "284- Temperature: 4.963411661573912e-05 Best score: 427.40999999999997\n",
      "285- Temperature: 4.715241078495216e-05 Best score: 427.40999999999997\n",
      "286- Temperature: 4.479479024570455e-05 Best score: 427.40999999999997\n",
      "287- Temperature: 4.2555050733419325e-05 Best score: 427.40999999999997\n",
      "288- Temperature: 4.042729819674836e-05 Best score: 427.40999999999997\n",
      "289- Temperature: 3.840593328691094e-05 Best score: 427.40999999999997\n",
      "290- Temperature: 3.648563662256539e-05 Best score: 427.40999999999997\n",
      "291- Temperature: 3.4661354791437114e-05 Best score: 427.40999999999997\n",
      "292- Temperature: 3.2928287051865256e-05 Best score: 427.40999999999997\n",
      "293- Temperature: 3.128187269927199e-05 Best score: 427.40999999999997\n",
      "294- Temperature: 2.9717779064308393e-05 Best score: 427.40999999999997\n",
      "295- Temperature: 2.823189011109297e-05 Best score: 427.40999999999997\n",
      "296- Temperature: 2.6820295605538322e-05 Best score: 427.40999999999997\n",
      "297- Temperature: 2.5479280825261406e-05 Best score: 427.40999999999997\n",
      "298- Temperature: 2.4205316783998335e-05 Best score: 427.40999999999997\n",
      "299- Temperature: 2.2995050944798418e-05 Best score: 427.40999999999997\n",
      "300- Temperature: 2.1845298397558495e-05 Best score: 427.40999999999997\n",
      "301- Temperature: 2.075303347768057e-05 Best score: 427.40999999999997\n",
      "302- Temperature: 1.9715381803796542e-05 Best score: 427.40999999999997\n",
      "303- Temperature: 1.8729612713606715e-05 Best score: 427.40999999999997\n",
      "304- Temperature: 1.779313207792638e-05 Best score: 427.40999999999997\n",
      "305- Temperature: 1.690347547403006e-05 Best score: 427.40999999999997\n",
      "306- Temperature: 1.6058301700328556e-05 Best score: 427.40999999999997\n",
      "307- Temperature: 1.5255386615312127e-05 Best score: 427.40999999999997\n",
      "308- Temperature: 1.449261728454652e-05 Best score: 427.40999999999997\n",
      "309- Temperature: 1.3767986420319193e-05 Best score: 427.40999999999997\n",
      "310- Temperature: 1.3079587099303233e-05 Best score: 427.40999999999997\n",
      "311- Temperature: 1.242560774433807e-05 Best score: 427.40999999999997\n",
      "312- Temperature: 1.1804327357121166e-05 Best score: 427.40999999999997\n",
      "313- Temperature: 1.1214110989265108e-05 Best score: 427.40999999999997\n",
      "314- Temperature: 1.0653405439801852e-05 Best score: 427.40999999999997\n",
      "315- Temperature: 1.0120735167811759e-05 Best score: 427.40999999999997\n",
      "316- Temperature: 9.61469840942117e-06 Best score: 427.40999999999997\n",
      "317- Temperature: 9.13396348895011e-06 Best score: 427.40999999999997\n",
      "318- Temperature: 8.677265314502605e-06 Best score: 427.40999999999997\n",
      "319- Temperature: 8.243402048777475e-06 Best score: 427.40999999999997\n",
      "320- Temperature: 7.8312319463386e-06 Best score: 427.40999999999997\n",
      "321- Temperature: 7.4396703490216705e-06 Best score: 427.40999999999997\n",
      "322- Temperature: 7.067686831570586e-06 Best score: 427.40999999999997\n",
      "323- Temperature: 6.714302489992056e-06 Best score: 427.40999999999997\n",
      "324- Temperature: 6.378587365492453e-06 Best score: 427.40999999999997\n",
      "325- Temperature: 6.05965799721783e-06 Best score: 427.40999999999997\n",
      "326- Temperature: 5.756675097356939e-06 Best score: 427.40999999999997\n",
      "327- Temperature: 5.4688413424890915e-06 Best score: 427.40999999999997\n",
      "328- Temperature: 5.195399275364637e-06 Best score: 427.40999999999997\n",
      "329- Temperature: 4.935629311596405e-06 Best score: 427.40999999999997\n",
      "330- Temperature: 4.688847846016585e-06 Best score: 427.40999999999997\n",
      "331- Temperature: 4.454405453715756e-06 Best score: 427.40999999999997\n",
      "332- Temperature: 4.231685181029968e-06 Best score: 427.40999999999997\n",
      "333- Temperature: 4.02010092197847e-06 Best score: 427.40999999999997\n",
      "334- Temperature: 3.819095875879546e-06 Best score: 427.40999999999997\n",
      "335- Temperature: 3.6281410820855687e-06 Best score: 427.40999999999997\n",
      "336- Temperature: 3.44673402798129e-06 Best score: 427.40999999999997\n",
      "337- Temperature: 3.2743973265822252e-06 Best score: 427.40999999999997\n",
      "338- Temperature: 3.110677460253114e-06 Best score: 427.40999999999997\n",
      "339- Temperature: 2.955143587240458e-06 Best score: 427.40999999999997\n",
      "340- Temperature: 2.807386407878435e-06 Best score: 427.40999999999997\n",
      "341- Temperature: 2.667017087484513e-06 Best score: 427.40999999999997\n",
      "342- Temperature: 2.5336662331102873e-06 Best score: 427.40999999999997\n",
      "343- Temperature: 2.4069829214547726e-06 Best score: 427.40999999999997\n",
      "344- Temperature: 2.286633775382034e-06 Best score: 427.40999999999997\n",
      "345- Temperature: 2.172302086612932e-06 Best score: 427.40999999999997\n",
      "346- Temperature: 2.0636869822822854e-06 Best score: 427.40999999999997\n",
      "347- Temperature: 1.960502633168171e-06 Best score: 427.40999999999997\n",
      "348- Temperature: 1.8624775015097624e-06 Best score: 427.40999999999997\n",
      "349- Temperature: 1.7693536264342743e-06 Best score: 427.40999999999997\n",
      "350- Temperature: 1.6808859451125605e-06 Best score: 427.40999999999997\n",
      "351- Temperature: 1.5968416478569325e-06 Best score: 427.40999999999997\n",
      "352- Temperature: 1.5169995654640858e-06 Best score: 427.40999999999997\n",
      "353- Temperature: 1.4411495871908815e-06 Best score: 427.40999999999997\n",
      "354- Temperature: 1.3690921078313372e-06 Best score: 427.40999999999997\n",
      "355- Temperature: 1.3006375024397704e-06 Best score: 427.40999999999997\n",
      "356- Temperature: 1.2356056273177818e-06 Best score: 427.40999999999997\n",
      "357- Temperature: 1.1738253459518927e-06 Best score: 427.40999999999997\n",
      "358- Temperature: 1.115134078654298e-06 Best score: 427.40999999999997\n",
      "359- Temperature: 1.0593773747215832e-06 Best score: 427.40999999999997\n",
      "360- Temperature: 1.006408505985504e-06 Best score: 427.40999999999997\n",
      "361- Temperature: 9.560880806862288e-07 Best score: 427.40999999999997\n"
     ]
    },
    {
     "name": "stdout",
     "output_type": "stream",
     "text": [
      "362- Temperature: 9.082836766519173e-07 Best score: 427.40999999999997\n",
      "363- Temperature: 8.628694928193214e-07 Best score: 427.40999999999997\n",
      "364- Temperature: 8.197260181783553e-07 Best score: 427.40999999999997\n",
      "365- Temperature: 7.787397172694375e-07 Best score: 427.40999999999997\n",
      "366- Temperature: 7.398027314059656e-07 Best score: 427.40999999999997\n",
      "367- Temperature: 7.028125948356673e-07 Best score: 427.40999999999997\n",
      "368- Temperature: 6.676719650938839e-07 Best score: 427.40999999999997\n",
      "369- Temperature: 6.342883668391897e-07 Best score: 427.40999999999997\n",
      "370- Temperature: 6.025739484972302e-07 Best score: 427.40999999999997\n",
      "371- Temperature: 5.724452510723686e-07 Best score: 427.40999999999997\n",
      "372- Temperature: 5.438229885187502e-07 Best score: 427.40999999999997\n",
      "373- Temperature: 5.166318390928127e-07 Best score: 427.40999999999997\n",
      "374- Temperature: 4.908002471381721e-07 Best score: 427.40999999999997\n",
      "375- Temperature: 4.662602347812635e-07 Best score: 427.40999999999997\n",
      "376- Temperature: 4.429472230422003e-07 Best score: 427.40999999999997\n",
      "377- Temperature: 4.2079986189009026e-07 Best score: 427.40999999999997\n",
      "378- Temperature: 3.997598687955857e-07 Best score: 427.40999999999997\n",
      "379- Temperature: 3.797718753558064e-07 Best score: 427.40999999999997\n",
      "380- Temperature: 3.6078328158801606e-07 Best score: 427.40999999999997\n",
      "381- Temperature: 3.4274411750861524e-07 Best score: 427.40999999999997\n",
      "382- Temperature: 3.256069116331845e-07 Best score: 427.40999999999997\n",
      "383- Temperature: 3.0932656605152524e-07 Best score: 427.40999999999997\n",
      "384- Temperature: 2.9386023774894894e-07 Best score: 427.40999999999997\n",
      "385- Temperature: 2.7916722586150146e-07 Best score: 427.40999999999997\n",
      "386- Temperature: 2.652088645684264e-07 Best score: 427.40999999999997\n",
      "387- Temperature: 2.51948421340005e-07 Best score: 427.40999999999997\n",
      "388- Temperature: 2.3935100027300476e-07 Best score: 427.40999999999997\n",
      "389- Temperature: 2.273834502593545e-07 Best score: 427.40999999999997\n",
      "390- Temperature: 2.1601427774638676e-07 Best score: 427.40999999999997\n",
      "391- Temperature: 2.052135638590674e-07 Best score: 427.40999999999997\n",
      "392- Temperature: 1.9495288566611403e-07 Best score: 427.40999999999997\n",
      "393- Temperature: 1.8520524138280833e-07 Best score: 427.40999999999997\n",
      "394- Temperature: 1.759449793136679e-07 Best score: 427.40999999999997\n",
      "395- Temperature: 1.671477303479845e-07 Best score: 427.40999999999997\n",
      "396- Temperature: 1.5879034383058527e-07 Best score: 427.40999999999997\n",
      "397- Temperature: 1.50850826639056e-07 Best score: 427.40999999999997\n",
      "398- Temperature: 1.433082853071032e-07 Best score: 427.40999999999997\n",
      "399- Temperature: 1.3614287104174804e-07 Best score: 427.40999999999997\n",
      "400- Temperature: 1.2933572748966064e-07 Best score: 427.40999999999997\n",
      "401- Temperature: 1.2286894111517762e-07 Best score: 427.40999999999997\n",
      "402- Temperature: 1.1672549405941873e-07 Best score: 427.40999999999997\n",
      "403- Temperature: 1.1088921935644779e-07 Best score: 427.40999999999997\n",
      "404- Temperature: 1.0534475838862539e-07 Best score: 427.40999999999997\n",
      "405- Temperature: 1.0007752046919411e-07 Best score: 427.40999999999997\n",
      "406- Temperature: 9.50736444457344e-08 Best score: 427.40999999999997\n",
      "407- Temperature: 9.031996222344767e-08 Best score: 427.40999999999997\n",
      "408- Temperature: 8.580396411227528e-08 Best score: 427.40999999999997\n",
      "409- Temperature: 8.151376590666152e-08 Best score: 427.40999999999997\n",
      "410- Temperature: 7.743807761132844e-08 Best score: 427.40999999999997\n",
      "411- Temperature: 7.356617373076201e-08 Best score: 427.40999999999997\n",
      "412- Temperature: 6.98878650442239e-08 Best score: 427.40999999999997\n",
      "413- Temperature: 6.639347179201271e-08 Best score: 427.40999999999997\n",
      "414- Temperature: 6.307379820241207e-08 Best score: 427.40999999999997\n",
      "415- Temperature: 5.992010829229146e-08 Best score: 427.40999999999997\n",
      "416- Temperature: 5.6924102877676886e-08 Best score: 427.40999999999997\n",
      "417- Temperature: 5.407789773379304e-08 Best score: 427.40999999999997\n",
      "418- Temperature: 5.1374002847103385e-08 Best score: 427.40999999999997\n",
      "419- Temperature: 4.880530270474821e-08 Best score: 427.40999999999997\n",
      "420- Temperature: 4.6365037569510795e-08 Best score: 427.40999999999997\n",
      "421- Temperature: 4.404678569103525e-08 Best score: 427.40999999999997\n",
      "422- Temperature: 4.1844446406483485e-08 Best score: 427.40999999999997\n",
      "423- Temperature: 3.975222408615931e-08 Best score: 427.40999999999997\n",
      "424- Temperature: 3.776461288185134e-08 Best score: 427.40999999999997\n",
      "425- Temperature: 3.587638223775877e-08 Best score: 427.40999999999997\n",
      "426- Temperature: 3.4082563125870834e-08 Best score: 427.40999999999997\n",
      "427- Temperature: 3.237843496957729e-08 Best score: 427.40999999999997\n",
      "428- Temperature: 3.075951322109843e-08 Best score: 427.40999999999997\n",
      "429- Temperature: 2.9221537560043507e-08 Best score: 427.40999999999997\n",
      "430- Temperature: 2.776046068204133e-08 Best score: 427.40999999999997\n",
      "431- Temperature: 2.6372437647939262e-08 Best score: 427.40999999999997\n",
      "432- Temperature: 2.5053815765542297e-08 Best score: 427.40999999999997\n",
      "433- Temperature: 2.3801124977265182e-08 Best score: 427.40999999999997\n",
      "434- Temperature: 2.261106872840192e-08 Best score: 427.40999999999997\n",
      "435- Temperature: 2.1480515291981826e-08 Best score: 427.40999999999997\n",
      "436- Temperature: 2.0406489527382732e-08 Best score: 427.40999999999997\n",
      "437- Temperature: 1.9386165051013594e-08 Best score: 427.40999999999997\n",
      "438- Temperature: 1.8416856798462913e-08 Best score: 427.40999999999997\n",
      "439- Temperature: 1.7496013958539767e-08 Best score: 427.40999999999997\n",
      "440- Temperature: 1.6621213260612777e-08 Best score: 427.40999999999997\n",
      "441- Temperature: 1.5790152597582138e-08 Best score: 427.40999999999997\n",
      "442- Temperature: 1.500064496770303e-08 Best score: 427.40999999999997\n",
      "443- Temperature: 1.4250612719317877e-08 Best score: 427.40999999999997\n",
      "444- Temperature: 1.3538082083351983e-08 Best score: 427.40999999999997\n",
      "445- Temperature: 1.2861177979184383e-08 Best score: 427.40999999999997\n",
      "446- Temperature: 1.2218119080225163e-08 Best score: 427.40999999999997\n",
      "447- Temperature: 1.1607213126213904e-08 Best score: 427.40999999999997\n",
      "448- Temperature: 1.1026852469903208e-08 Best score: 427.40999999999997\n",
      "449- Temperature: 1.0475509846408047e-08 Best score: 427.40999999999997\n",
      "450- Temperature: 9.951734354087645e-09 Best score: 427.40999999999997\n",
      "451- Temperature: 9.454147636383262e-09 Best score: 427.40999999999997\n",
      "452- Temperature: 8.981440254564098e-09 Best score: 427.40999999999997\n",
      "453- Temperature: 8.532368241835893e-09 Best score: 427.40999999999997\n",
      "454- Temperature: 8.1057498297441e-09 Best score: 427.40999999999997\n",
      "455- Temperature: 7.700462338256894e-09 Best score: 427.40999999999997\n",
      "456- Temperature: 7.31543922134405e-09 Best score: 427.40999999999997\n",
      "457- Temperature: 6.949667260276847e-09 Best score: 427.40999999999997\n",
      "458- Temperature: 6.602183897263005e-09 Best score: 427.40999999999997\n",
      "459- Temperature: 6.272074702399854e-09 Best score: 427.40999999999997\n",
      "460- Temperature: 5.958470967279861e-09 Best score: 427.40999999999997\n",
      "461- Temperature: 5.660547418915868e-09 Best score: 427.40999999999997\n",
      "462- Temperature: 5.377520047970074e-09 Best score: 427.40999999999997\n",
      "463- Temperature: 5.108644045571571e-09 Best score: 427.40999999999997\n",
      "464- Temperature: 4.8532118432929915e-09 Best score: 427.40999999999997\n",
      "465- Temperature: 4.610551251128341e-09 Best score: 427.40999999999997\n",
      "466- Temperature: 4.380023688571924e-09 Best score: 427.40999999999997\n",
      "467- Temperature: 4.161022504143328e-09 Best score: 427.40999999999997\n",
      "468- Temperature: 3.9529713789361616e-09 Best score: 427.40999999999997\n",
      "469- Temperature: 3.755322809989353e-09 Best score: 427.40999999999997\n",
      "470- Temperature: 3.567556669489885e-09 Best score: 427.40999999999997\n",
      "471- Temperature: 3.3891788360153906e-09 Best score: 427.40999999999997\n",
      "472- Temperature: 3.219719894214621e-09 Best score: 427.40999999999997\n",
      "473- Temperature: 3.05873389950389e-09 Best score: 427.40999999999997\n",
      "474- Temperature: 2.9057972045286955e-09 Best score: 427.40999999999997\n",
      "475- Temperature: 2.760507344302261e-09 Best score: 427.40999999999997\n",
      "476- Temperature: 2.6224819770871475e-09 Best score: 427.40999999999997\n"
     ]
    },
    {
     "name": "stdout",
     "output_type": "stream",
     "text": [
      "477- Temperature: 2.49135787823279e-09 Best score: 427.40999999999997\n",
      "478- Temperature: 2.3667899843211503e-09 Best score: 427.40999999999997\n",
      "479- Temperature: 2.248450485105093e-09 Best score: 427.40999999999997\n",
      "480- Temperature: 2.136027960849838e-09 Best score: 427.40999999999997\n",
      "481- Temperature: 2.029226562807346e-09 Best score: 427.40999999999997\n",
      "482- Temperature: 1.9277652346669786e-09 Best score: 427.40999999999997\n",
      "483- Temperature: 1.8313769729336296e-09 Best score: 427.40999999999997\n",
      "484- Temperature: 1.739808124286948e-09 Best score: 427.40999999999997\n",
      "485- Temperature: 1.6528177180726006e-09 Best score: 427.40999999999997\n",
      "486- Temperature: 1.5701768321689705e-09 Best score: 427.40999999999997\n",
      "487- Temperature: 1.491667990560522e-09 Best score: 427.40999999999997\n",
      "488- Temperature: 1.4170845910324957e-09 Best score: 427.40999999999997\n",
      "489- Temperature: 1.3462303614808708e-09 Best score: 427.40999999999997\n",
      "490- Temperature: 1.2789188434068273e-09 Best score: 427.40999999999997\n",
      "491- Temperature: 1.2149729012364858e-09 Best score: 427.40999999999997\n",
      "492- Temperature: 1.1542242561746614e-09 Best score: 427.40999999999997\n",
      "493- Temperature: 1.0965130433659283e-09 Best score: 427.40999999999997\n",
      "494- Temperature: 1.041687391197632e-09 Best score: 427.40999999999997\n",
      "495- Temperature: 9.896030216377502e-10 Best score: 427.40999999999997\n",
      "496- Temperature: 9.401228705558627e-10 Best score: 427.40999999999997\n",
      "497- Temperature: 8.931167270280695e-10 Best score: 427.40999999999997\n",
      "498- Temperature: 8.48460890676666e-10 Best score: 427.40999999999997\n",
      "499- Temperature: 8.060378461428327e-10 Best score: 427.40999999999997\n",
      "500- Temperature: 7.65735953835691e-10 Best score: 427.40999999999997\n",
      "148.7323637008667\n",
      "{(0, 0): 'M', (0, -1): 'A', (0, -2): 'L', (1, -2): 'W', (1, -3): 'M', (1, -4): 'R', (2, -4): 'L', (2, -3): 'L', (2, -2): 'P', (2, -1): 'L', (1, -1): 'L', (1, 0): 'A', (1, 1): 'L', (0, 1): 'L', (0, 2): 'A', (0, 3): 'L', (0, 4): 'W', (0, 5): 'G', (1, 5): 'P', (1, 6): 'D', (2, 6): 'P', (2, 5): 'A', (2, 4): 'A', (3, 4): 'A', (3, 5): 'F', (3, 6): 'V', (3, 7): 'N', (4, 7): 'Q', (4, 6): 'H', (5, 6): 'L', (5, 5): 'C', (4, 5): 'G', (4, 4): 'S', (5, 4): 'H', (6, 4): 'L', (6, 3): 'V', (5, 3): 'E', (4, 3): 'A', (3, 3): 'L', (2, 3): 'Y', (1, 3): 'L', (1, 2): 'V', (2, 2): 'C', (2, 1): 'G', (3, 1): 'E', (3, 2): 'R', (4, 2): 'G', (5, 2): 'F', (6, 2): 'F', (6, 1): 'Y', (5, 1): 'T', (5, 0): 'P', (6, 0): 'K', (7, 0): 'T', (7, 1): 'R', (7, 2): 'R', (7, 3): 'E', (7, 4): 'A', (8, 4): 'E', (8, 5): 'D', (7, 5): 'L', (6, 5): 'Q', (6, 6): 'V', (7, 6): 'G', (7, 7): 'Q', (6, 7): 'V', (5, 7): 'E', (5, 8): 'L', (6, 8): 'G', (6, 9): 'G', (6, 10): 'G', (5, 10): 'P', (5, 9): 'G', (4, 9): 'A', (4, 10): 'G', (3, 10): 'S', (3, 9): 'L', (3, 8): 'Q', (2, 8): 'P', (2, 9): 'L', (2, 10): 'A', (1, 10): 'L', (0, 10): 'E', (0, 11): 'G', (0, 12): 'S', (-1, 12): 'L', (-1, 13): 'Q', (-2, 13): 'K', (-2, 12): 'R', (-2, 11): 'G', (-1, 11): 'I', (-1, 10): 'V', (-2, 10): 'E', (-2, 9): 'Q', (-2, 8): 'C', (-1, 8): 'C', (-1, 9): 'T', (0, 9): 'S', (1, 9): 'I', (1, 8): 'C', (0, 8): 'S', (0, 7): 'L', (0, 6): 'Y', (-1, 6): 'Q', (-1, 7): 'L', (-2, 7): 'E', (-3, 7): 'N', (-3, 8): 'Y', (-3, 9): 'C', (-3, 10): 'N'}\n"
     ]
    }
   ],
   "source": [
    "P01308 = 'MALWMRLLPLLALLALWGPDPAAAFVNQHLCGSHLVEALYLVCGERGFFYTPKTRREAEDLQVGQVELGGGPGAGSLQPLALEGSLQKRGIVEQCCTSICSLYQLENYCN'\n",
    "P01308_dic = simmulating_anneling(P01308, 100, 0.95, 500, 500)\n",
    "print(P01308_dic)"
   ]
  },
  {
   "cell_type": "markdown",
   "metadata": {},
   "source": [
    "La tercera proteína tiene en Uniprot la entrada 'A0A6M6B208', con nombre 'Tat protein' y organismo 'Human immunodeficiency virus 1' (https://www.uniprot.org/uniprot/A0A6M6B208):"
   ]
  },
  {
   "cell_type": "code",
   "execution_count": 20,
   "metadata": {},
   "outputs": [
    {
     "name": "stdout",
     "output_type": "stream",
     "text": [
      "1- Temperature: 50 Best score: 279.2600000000001\n",
      "2- Temperature: 47.5 Best score: 135.48\n",
      "3- Temperature: 45.125 Best score: 135.48\n",
      "4- Temperature: 42.86875 Best score: 47.370000000000026\n",
      "5- Temperature: 40.725312499999994 Best score: 47.370000000000026\n",
      "6- Temperature: 38.689046874999995 Best score: 47.370000000000026\n",
      "7- Temperature: 36.75459453124999 Best score: 47.370000000000026\n",
      "8- Temperature: 34.91686480468749 Best score: 47.370000000000026\n",
      "9- Temperature: 33.17102156445311 Best score: 47.370000000000026\n",
      "10- Temperature: 31.512470486230455 Best score: 47.370000000000026\n",
      "11- Temperature: 29.93684696191893 Best score: 47.370000000000026\n",
      "12- Temperature: 28.440004613822982 Best score: 47.370000000000026\n",
      "13- Temperature: 27.01800438313183 Best score: 47.370000000000026\n",
      "14- Temperature: 25.66710416397524 Best score: 47.370000000000026\n",
      "15- Temperature: 24.383748955776475 Best score: 47.370000000000026\n",
      "16- Temperature: 23.16456150798765 Best score: 47.370000000000026\n",
      "17- Temperature: 22.006333432588267 Best score: 47.370000000000026\n",
      "18- Temperature: 20.906016760958853 Best score: 47.370000000000026\n",
      "19- Temperature: 19.86071592291091 Best score: 47.370000000000026\n",
      "20- Temperature: 18.867680126765364 Best score: 47.370000000000026\n",
      "21- Temperature: 17.924296120427094 Best score: 47.370000000000026\n",
      "22- Temperature: 17.02808131440574 Best score: 47.370000000000026\n",
      "23- Temperature: 16.17667724868545 Best score: 47.370000000000026\n",
      "24- Temperature: 15.367843386251177 Best score: 47.370000000000026\n",
      "25- Temperature: 14.599451216938618 Best score: 47.370000000000026\n",
      "26- Temperature: 13.869478656091687 Best score: 47.370000000000026\n",
      "27- Temperature: 13.176004723287102 Best score: 47.370000000000026\n",
      "28- Temperature: 12.517204487122747 Best score: 47.370000000000026\n",
      "29- Temperature: 11.891344262766609 Best score: 47.370000000000026\n",
      "30- Temperature: 11.296777049628277 Best score: 47.370000000000026\n",
      "31- Temperature: 10.731938197146862 Best score: 47.370000000000026\n",
      "32- Temperature: 10.195341287289517 Best score: 47.370000000000026\n",
      "33- Temperature: 9.685574222925041 Best score: 47.370000000000026\n",
      "34- Temperature: 9.201295511778788 Best score: 47.370000000000026\n",
      "35- Temperature: 8.741230736189848 Best score: 47.370000000000026\n",
      "36- Temperature: 8.304169199380356 Best score: 47.370000000000026\n",
      "37- Temperature: 7.8889607394113375 Best score: 47.370000000000026\n",
      "38- Temperature: 7.49451270244077 Best score: 47.370000000000026\n",
      "39- Temperature: 7.119787067318731 Best score: 47.370000000000026\n",
      "40- Temperature: 6.763797713952794 Best score: 47.370000000000026\n",
      "41- Temperature: 6.425607828255154 Best score: 47.370000000000026\n",
      "42- Temperature: 6.104327436842396 Best score: 47.370000000000026\n",
      "43- Temperature: 5.799111065000275 Best score: 47.370000000000026\n",
      "44- Temperature: 5.5091555117502615 Best score: 47.370000000000026\n",
      "45- Temperature: 5.233697736162748 Best score: 47.370000000000026\n",
      "46- Temperature: 4.97201284935461 Best score: 47.370000000000026\n",
      "47- Temperature: 4.72341220688688 Best score: 47.370000000000026\n",
      "48- Temperature: 4.487241596542535 Best score: 47.370000000000026\n",
      "49- Temperature: 4.262879516715408 Best score: 47.370000000000026\n",
      "50- Temperature: 4.049735540879637 Best score: 47.370000000000026\n",
      "51- Temperature: 3.847248763835655 Best score: 47.370000000000026\n",
      "52- Temperature: 3.654886325643872 Best score: 47.370000000000026\n",
      "53- Temperature: 3.4721420093616784 Best score: 47.370000000000026\n",
      "54- Temperature: 3.2985349088935942 Best score: 47.370000000000026\n",
      "55- Temperature: 3.1336081634489146 Best score: 47.370000000000026\n",
      "56- Temperature: 2.976927755276469 Best score: 47.370000000000026\n",
      "57- Temperature: 2.8280813675126453 Best score: 47.370000000000026\n",
      "58- Temperature: 2.686677299137013 Best score: 47.370000000000026\n",
      "59- Temperature: 2.552343434180162 Best score: 47.370000000000026\n",
      "60- Temperature: 2.424726262471154 Best score: 47.370000000000026\n",
      "61- Temperature: 2.303489949347596 Best score: 47.370000000000026\n",
      "62- Temperature: 2.188315451880216 Best score: 47.370000000000026\n",
      "63- Temperature: 2.0788996792862053 Best score: 44.140000000000015\n",
      "64- Temperature: 1.974954695321895 Best score: 44.140000000000015\n",
      "65- Temperature: 1.8762069605558003 Best score: 44.140000000000015\n",
      "66- Temperature: 1.7823966125280102 Best score: 44.140000000000015\n",
      "67- Temperature: 1.6932767819016097 Best score: 44.140000000000015\n",
      "68- Temperature: 1.6086129428065292 Best score: 44.140000000000015\n",
      "69- Temperature: 1.5281822956662028 Best score: 44.140000000000015\n",
      "70- Temperature: 1.4517731808828926 Best score: 44.140000000000015\n",
      "71- Temperature: 1.379184521838748 Best score: 44.140000000000015\n",
      "72- Temperature: 1.3102252957468106 Best score: 44.140000000000015\n",
      "73- Temperature: 1.24471403095947 Best score: 44.140000000000015\n",
      "74- Temperature: 1.1824783294114964 Best score: 44.140000000000015\n",
      "75- Temperature: 1.1233544129409216 Best score: 44.140000000000015\n",
      "76- Temperature: 1.0671866922938755 Best score: 44.140000000000015\n",
      "77- Temperature: 1.0138273576791816 Best score: 44.140000000000015\n",
      "78- Temperature: 0.9631359897952225 Best score: 44.140000000000015\n",
      "79- Temperature: 0.9149791903054614 Best score: 44.140000000000015\n",
      "80- Temperature: 0.8692302307901882 Best score: 44.140000000000015\n",
      "81- Temperature: 0.8257687192506787 Best score: 44.140000000000015\n",
      "82- Temperature: 0.7844802832881448 Best score: 44.140000000000015\n",
      "83- Temperature: 0.7452562691237375 Best score: 44.140000000000015\n",
      "84- Temperature: 0.7079934556675507 Best score: 44.140000000000015\n",
      "85- Temperature: 0.6725937828841732 Best score: 44.140000000000015\n",
      "86- Temperature: 0.6389640937399644 Best score: 44.140000000000015\n",
      "87- Temperature: 0.6070158890529662 Best score: 44.140000000000015\n",
      "88- Temperature: 0.5766650946003179 Best score: 44.140000000000015\n",
      "89- Temperature: 0.5478318398703019 Best score: 44.140000000000015\n",
      "90- Temperature: 0.5204402478767868 Best score: 44.140000000000015\n",
      "91- Temperature: 0.4944182354829474 Best score: 44.140000000000015\n",
      "92- Temperature: 0.4696973237088 Best score: 44.140000000000015\n",
      "93- Temperature: 0.44621245752336 Best score: 44.140000000000015\n",
      "94- Temperature: 0.42390183464719194 Best score: 44.140000000000015\n",
      "95- Temperature: 0.4027067429148323 Best score: 44.140000000000015\n",
      "96- Temperature: 0.3825714057690907 Best score: 44.140000000000015\n",
      "97- Temperature: 0.36344283548063616 Best score: 44.140000000000015\n",
      "98- Temperature: 0.34527069370660435 Best score: 44.140000000000015\n",
      "99- Temperature: 0.32800715902127414 Best score: 44.140000000000015\n",
      "100- Temperature: 0.31160680107021044 Best score: 44.140000000000015\n",
      "101- Temperature: 0.2960264610166999 Best score: 44.140000000000015\n",
      "102- Temperature: 0.2812251379658649 Best score: 44.140000000000015\n",
      "103- Temperature: 0.26716388106757166 Best score: 44.140000000000015\n",
      "104- Temperature: 0.2538056870141931 Best score: 44.140000000000015\n",
      "105- Temperature: 0.2411154026634834 Best score: 44.140000000000015\n",
      "106- Temperature: 0.22905963253030923 Best score: 44.140000000000015\n",
      "107- Temperature: 0.21760665090379375 Best score: 44.140000000000015\n",
      "108- Temperature: 0.20672631835860406 Best score: 44.140000000000015\n",
      "109- Temperature: 0.19639000244067384 Best score: 44.140000000000015\n",
      "110- Temperature: 0.18657050231864014 Best score: 44.140000000000015\n",
      "111- Temperature: 0.17724197720270812 Best score: 44.140000000000015\n",
      "112- Temperature: 0.1683798783425727 Best score: 44.140000000000015\n",
      "113- Temperature: 0.15996088442544407 Best score: 44.140000000000015\n",
      "114- Temperature: 0.15196284020417186 Best score: 44.140000000000015\n",
      "115- Temperature: 0.14436469819396328 Best score: 44.140000000000015\n",
      "116- Temperature: 0.1371464632842651 Best score: 44.140000000000015\n",
      "117- Temperature: 0.13028914012005186 Best score: 44.140000000000015\n",
      "118- Temperature: 0.12377468311404925 Best score: 44.140000000000015\n",
      "119- Temperature: 0.11758594895834679 Best score: 44.140000000000015\n",
      "120- Temperature: 0.11170665151042944 Best score: 44.140000000000015\n",
      "121- Temperature: 0.10612131893490796 Best score: 44.140000000000015\n",
      "122- Temperature: 0.10081525298816256 Best score: 44.140000000000015\n",
      "123- Temperature: 0.09577449033875443 Best score: 44.140000000000015\n",
      "124- Temperature: 0.09098576582181671 Best score: 44.140000000000015\n",
      "125- Temperature: 0.08643647753072586 Best score: 44.140000000000015\n",
      "126- Temperature: 0.08211465365418957 Best score: 44.140000000000015\n",
      "127- Temperature: 0.07800892097148009 Best score: 44.140000000000015\n",
      "128- Temperature: 0.07410847492290608 Best score: 44.140000000000015\n"
     ]
    },
    {
     "name": "stdout",
     "output_type": "stream",
     "text": [
      "129- Temperature: 0.07040305117676077 Best score: 44.140000000000015\n",
      "130- Temperature: 0.06688289861792272 Best score: 44.140000000000015\n",
      "131- Temperature: 0.06353875368702658 Best score: 44.140000000000015\n",
      "132- Temperature: 0.06036181600267525 Best score: 44.140000000000015\n",
      "133- Temperature: 0.05734372520254148 Best score: 44.140000000000015\n",
      "134- Temperature: 0.05447653894241441 Best score: 44.140000000000015\n",
      "135- Temperature: 0.05175271199529369 Best score: 44.140000000000015\n",
      "136- Temperature: 0.049165076395529 Best score: 44.140000000000015\n",
      "137- Temperature: 0.046706822575752545 Best score: 44.140000000000015\n",
      "138- Temperature: 0.044371481446964914 Best score: 44.140000000000015\n",
      "139- Temperature: 0.04215290737461667 Best score: 44.140000000000015\n",
      "140- Temperature: 0.04004526200588583 Best score: 44.140000000000015\n",
      "141- Temperature: 0.03804299890559154 Best score: 44.140000000000015\n",
      "142- Temperature: 0.036140848960311965 Best score: 44.140000000000015\n",
      "143- Temperature: 0.034333806512296366 Best score: 44.140000000000015\n",
      "144- Temperature: 0.03261711618668155 Best score: 44.140000000000015\n",
      "145- Temperature: 0.030986260377347467 Best score: 44.140000000000015\n",
      "146- Temperature: 0.029436947358480094 Best score: 44.140000000000015\n",
      "147- Temperature: 0.02796509999055609 Best score: 40.780000000000015\n",
      "148- Temperature: 0.026566844991028283 Best score: 40.780000000000015\n",
      "149- Temperature: 0.02523850274147687 Best score: 31.97\n",
      "150- Temperature: 0.023976577604403023 Best score: 31.97\n",
      "151- Temperature: 0.02277774872418287 Best score: 31.97\n",
      "152- Temperature: 0.021638861287973727 Best score: 31.97\n",
      "153- Temperature: 0.02055691822357504 Best score: 25.88000000000001\n",
      "154- Temperature: 0.019529072312396287 Best score: 25.88000000000001\n",
      "155- Temperature: 0.018552618696776473 Best score: 25.88000000000001\n",
      "156- Temperature: 0.01762498776193765 Best score: 25.88000000000001\n",
      "157- Temperature: 0.01674373837384077 Best score: 25.88000000000001\n",
      "158- Temperature: 0.01590655145514873 Best score: 25.88000000000001\n",
      "159- Temperature: 0.015111223882391292 Best score: 25.88000000000001\n",
      "160- Temperature: 0.014355662688271726 Best score: 25.88000000000001\n",
      "161- Temperature: 0.013637879553858138 Best score: 25.88000000000001\n",
      "162- Temperature: 0.012955985576165232 Best score: 25.88000000000001\n",
      "163- Temperature: 0.01230818629735697 Best score: 25.88000000000001\n",
      "164- Temperature: 0.01169277698248912 Best score: 25.88000000000001\n",
      "165- Temperature: 0.011108138133364663 Best score: 25.88000000000001\n",
      "166- Temperature: 0.01055273122669643 Best score: 25.88000000000001\n",
      "167- Temperature: 0.010025094665361608 Best score: 25.88000000000001\n",
      "168- Temperature: 0.009523839932093527 Best score: 25.88000000000001\n",
      "169- Temperature: 0.00904764793548885 Best score: 25.88000000000001\n",
      "170- Temperature: 0.008595265538714408 Best score: 25.88000000000001\n",
      "171- Temperature: 0.008165502261778687 Best score: 25.88000000000001\n",
      "172- Temperature: 0.007757227148689753 Best score: 25.88000000000001\n",
      "173- Temperature: 0.0073693657912552646 Best score: 25.88000000000001\n",
      "174- Temperature: 0.007000897501692501 Best score: 25.88000000000001\n",
      "175- Temperature: 0.0066508526266078755 Best score: 25.88000000000001\n",
      "176- Temperature: 0.006318309995277481 Best score: 25.88000000000001\n",
      "177- Temperature: 0.006002394495513607 Best score: 25.88000000000001\n",
      "178- Temperature: 0.005702274770737926 Best score: 25.88000000000001\n",
      "179- Temperature: 0.005417161032201029 Best score: 25.88000000000001\n",
      "180- Temperature: 0.0051463029805909775 Best score: 25.88000000000001\n",
      "181- Temperature: 0.004888987831561428 Best score: 25.88000000000001\n",
      "182- Temperature: 0.004644538439983356 Best score: 25.88000000000001\n",
      "183- Temperature: 0.004412311517984188 Best score: 25.88000000000001\n",
      "184- Temperature: 0.004191695942084978 Best score: 25.88000000000001\n",
      "185- Temperature: 0.003982111144980729 Best score: 25.88000000000001\n",
      "186- Temperature: 0.003783005587731692 Best score: 25.88000000000001\n",
      "187- Temperature: 0.0035938553083451072 Best score: 25.88000000000001\n",
      "188- Temperature: 0.0034141625429278516 Best score: 25.88000000000001\n",
      "189- Temperature: 0.003243454415781459 Best score: 25.88000000000001\n",
      "190- Temperature: 0.003081281694992386 Best score: 25.88000000000001\n",
      "191- Temperature: 0.0029272176102427667 Best score: 25.88000000000001\n",
      "192- Temperature: 0.0027808567297306283 Best score: 25.88000000000001\n",
      "193- Temperature: 0.002641813893244097 Best score: 25.88000000000001\n",
      "194- Temperature: 0.002509723198581892 Best score: 25.88000000000001\n",
      "195- Temperature: 0.002384237038652797 Best score: 25.88000000000001\n",
      "196- Temperature: 0.002265025186720157 Best score: 25.88000000000001\n",
      "197- Temperature: 0.002151773927384149 Best score: 25.88000000000001\n",
      "198- Temperature: 0.0020441852310149416 Best score: 25.88000000000001\n",
      "199- Temperature: 0.0019419759694641943 Best score: 25.88000000000001\n",
      "200- Temperature: 0.0018448771709909846 Best score: 25.88000000000001\n",
      "11.222956418991089\n",
      "{(0, 0): 'R', (0, 1): 'R', (0, 2): 'Q', (0, 3): 'R', (1, 3): 'R', (1, 2): 'S', (1, 1): 'A', (2, 1): 'P', (2, 2): 'P', (3, 2): 'S', (4, 2): 'S', (4, 1): 'E', (5, 1): 'D', (5, 0): 'H', (6, 0): 'Q', (6, -1): 'N', (6, -2): 'P', (5, -2): 'I', (5, -3): 'P', (6, -3): 'E', (6, -4): 'Q', (5, -4): 'P', (5, -5): 'S', (6, -5): 'P', (6, -6): 'Q', (5, -6): 'T', (4, -6): 'R', (3, -6): 'G', (2, -6): 'N', (2, -5): 'S', (3, -5): 'T', (3, -4): 'G', (3, -3): 'S', (2, -3): 'E', (1, -3): 'E', (1, -2): 'S', (0, -2): 'K', (-1, -2): 'K', (-1, -1): 'K', (0, -1): 'V', (1, -1): 'E', (1, 0): 'S', (2, 0): 'K', (3, 0): 'T', (3, -1): 'E', (3, -2): 'T', (4, -2): 'D', (4, -3): 'P', (4, -4): 'C', (4, -5): 'D'}\n"
     ]
    }
   ],
   "source": [
    "A0A6M6B208 = \"RRQRRSAPPSSEDHQNPIPEQPSPQTRGNSTGSEESKKKVESKTETDPCD\"\n",
    "A0A6M6B208_dic = simmulating_anneling(A0A6M6B208,50,0.95, 200, 200)\n",
    "print(A0A6M6B208_dic)"
   ]
  },
  {
   "cell_type": "markdown",
   "metadata": {},
   "source": [
    "A continuación pasamos a representar en 2D los resultados anteriores.\n",
    "Para ello, realizaremos una función que pasándole el resultado del algoritmo nos represente la estructura 2D resultante. "
   ]
  },
  {
   "cell_type": "markdown",
   "metadata": {},
   "source": [
    "Esta función recorrerá toda la estructura dividiendo los puntos a representar en dos diccionarios dependiendo de si el aminoácido es hidrofóbico o hidrofílico. Posteriormente, representará la estructura completa para que se pueda mostrar la secuencia y, a continuación, se representarán los puntos hidrofóbicos en rojo e hidrofílicos en azul. Para que estos puntos queden por encima de la estructura pintada al inicio se utilizará la propiedad zorder."
   ]
  },
  {
   "cell_type": "code",
   "execution_count": 21,
   "metadata": {},
   "outputs": [],
   "source": [
    "def represent(structure,title):\n",
    "    hydrophobic = {'x':[],'y':[]}\n",
    "    hydrophilic = {'x':[],'y':[]}\n",
    "    repres = {'x':[],'y':[]}\n",
    "    \n",
    "    for aa in structure:\n",
    "        repres['x'].append(aa[0])\n",
    "        repres['y'].append(aa[1])\n",
    "        #Dividir los puntos en hydrophobic e hydrophilic\n",
    "        if(is_hydrophobic(structure[aa])):\n",
    "            hydrophobic['x'].append(aa[0])\n",
    "            hydrophobic['y'].append(aa[1])\n",
    "        else:\n",
    "            hydrophilic['x'].append(aa[0])\n",
    "            hydrophilic['y'].append(aa[1])\n",
    "\n",
    "    pl.title(\"Representación gráfica estructura 2D \"+title)\n",
    "    pl.plot(repres['x'],repres['y'],color='black',zorder=1, alpha = 1,linewidth=2)\n",
    "    #Se representa de rojo los hydrophobic y de azul los hydrophilic\n",
    "    pl.plot(hydrophobic['x'], hydrophobic['y'], 'o', c='darkred',zorder=2, label = \"Hydrophobic\",markersize=12)\n",
    "    pl.plot(hydrophilic['x'], hydrophilic['y'], 'o', c='darkblue',zorder=2, label = \"Hydrophilic\",markersize=12)\n",
    "    leg = pl.legend()\n",
    "    \n",
    "    #Mostrar cuadriculas\n",
    "    pl.grid(linewidth=0.5)\n",
    "    \n",
    "    #Mostrar solo valores enteros ejes entre el minimo y el máximo\n",
    "    pl.xticks([i for i in range(min(repres['x'])-1,max(repres['x'])+2)])\n",
    "    pl.yticks([i for i in range(min(repres['y'])-1,max(repres['y'])+2)])\n",
    "    pl.rcParams[\"figure.figsize\"] = (20, 20)\n",
    "    pl.show()"
   ]
  },
  {
   "cell_type": "code",
   "execution_count": 22,
   "metadata": {},
   "outputs": [
    {
     "data": {
      "image/png": "[encoded data removed]",
      "text/plain": [
       "<Figure size 432x288 with 1 Axes>"
      ]
     },
     "metadata": {
      "needs_background": "light"
     },
     "output_type": "display_data"
    }
   ],
   "source": [
    "represent(Q6LAP7_dic, \"Glucose-6-phosphatase\")"
   ]
  },
  {
   "cell_type": "code",
   "execution_count": 23,
   "metadata": {
    "scrolled": false
   },
   "outputs": [
    {
     "data": {
      "image/png": "[encoded data removed]",
      "text/plain": [
       "<Figure size 1440x1440 with 1 Axes>"
      ]
     },
     "metadata": {
      "needs_background": "light"
     },
     "output_type": "display_data"
    }
   ],
   "source": [
    "represent(P01308_dic, \"Insulin\")"
   ]
  },
  {
   "cell_type": "code",
   "execution_count": 24,
   "metadata": {},
   "outputs": [
    {
     "data": {
      "image/png": "[encoded data removed]",
      "text/plain": [
       "<Figure size 1440x1440 with 1 Axes>"
      ]
     },
     "metadata": {
      "needs_background": "light"
     },
     "output_type": "display_data"
    }
   ],
   "source": [
    "represent(A0A6M6B208_dic, \"Tat protein\")"
   ]
  },
  {
   "cell_type": "markdown",
   "metadata": {},
   "source": [
    "Por último, crearemos una función que represente gráficamente la estructura 2D de la proteína coloreando de azul los aminoácidos hidrofílicos y de rojo los hidrofóbicos pero con un gradiente que depende del valor ΔG de cada aminoácido."
   ]
  },
  {
   "cell_type": "markdown",
   "metadata": {},
   "source": [
    "Esta función recorrerá toda la estructura separando los puntos a representar en dos diccionarios dependiendo del tipo de aminoácido que sea, al igual que en la función represent, sin embargo, en este diccionario se crearán 3 claves más, minim, maxim y color. Las dos primeras serán para almacenar el valor mínimo y máximo del valor ΔG de cada tipo de aminoácido y, el color, se usará para almacenar todos los valores de ΔG. En el caso de los hidrofóbicos se almacenará el valor ΔG aumentado en 3 unidades para que sean todos los valores positivos y en el de los hidrofílicos se aumentará en 8 unidades.\n",
    "\n",
    "Tras esto, se representará la estructura completa y se utilizará la propiedad zorder para mostrar los puntos con colores por encima de la estructura base. En este caso se representarán los puntos hidrofóbicos en rojo e hidrofílicos en azul, pero con un gradiente que dependerá de los valores ΔG que se hayan ido almacenando en color. Para ello, se normalizarán estos valores entre 0 y 1 utilizando los valores máximos y mínimos del diccionario de cada tipo de aminoácido."
   ]
  },
  {
   "cell_type": "code",
   "execution_count": 25,
   "metadata": {},
   "outputs": [],
   "source": [
    "def represent_grad(structure,title):\n",
    "    repres = {'x':[],'y':[]}\n",
    "    hydrophobic = {'minim':10,'maxim':-10,'x':[],'y':[],'color':[]}\n",
    "    hydrophilic = {'minim':10,'maxim':-10,'x':[],'y':[],'color':[]}\n",
    "\n",
    "    #Positivos\n",
    "    for aa in structure:\n",
    "        repres['x'].append(aa[0])\n",
    "        repres['y'].append(aa[1])\n",
    "        deltaG = aa_deltaG[structure[aa]]\n",
    "        if(is_hydrophobic(structure[aa])):\n",
    "            if(deltaG+3<hydrophobic['minim']):\n",
    "                hydrophobic['minim'] = deltaG+3\n",
    "                \n",
    "            if(deltaG+3>hydrophobic['maxim']):\n",
    "                hydrophobic['maxim'] = deltaG+3\n",
    "                \n",
    "            hydrophobic['x'].append(aa[0])\n",
    "            hydrophobic['y'].append(aa[1])\n",
    "            #Para que sean positivos\n",
    "            hydrophobic['color'].append(deltaG+3)\n",
    "        else:\n",
    "            if(deltaG+8<hydrophilic['minim']):\n",
    "                hydrophilic['minim'] = deltaG+8\n",
    "                \n",
    "            if(deltaG+8>hydrophilic['maxim']):\n",
    "                hydrophilic['maxim'] = deltaG+8\n",
    "                \n",
    "            hydrophilic['x'].append(aa[0])\n",
    "            hydrophilic['y'].append(aa[1])\n",
    "            #Para que sean positivos\n",
    "            hydrophilic['color'].append(deltaG+8)\n",
    "            \n",
    "    pl.title(\"Representación gráfica estructura 2D \"+title)\n",
    "    pl.plot(repres['x'],repres['y'],color='black',zorder=1, alpha = 1,linewidth=2)\n",
    "    \n",
    "    if(len(hydrophobic['color'])!=0):\n",
    "        \n",
    "        #Normalizar para que estén entre 0 y 1\n",
    "        for i in range(len(hydrophobic['color'])):\n",
    "                x = hydrophobic['color'][i]\n",
    "                divisor = (hydrophobic['maxim']-hydrophobic['minim'])\n",
    "                if(divisor == 0):\n",
    "                    hydrophobic['color'][i] = 1\n",
    "                else:\n",
    "                    hydrophobic['color'][i] = (x - hydrophobic['minim'])/(hydrophobic['maxim'] - hydrophobic['minim'])\n",
    "\n",
    "        pl.scatter(hydrophobic['x'],hydrophobic['y'],c=hydrophobic['color'],zorder=2,cmap='Reds',s=60)\n",
    "        \n",
    "        #Barra de color Hydrophobic\n",
    "        cbar1 = pl.colorbar(label = \"Hydrophobic\", ticks=[0, 1], orientation='vertical')\n",
    "        cbar1.ax.set_yticklabels([str(hydrophobic['minim']-3), str(hydrophobic['maxim']-3)])\n",
    "        \n",
    "    if(len(hydrophilic['color'])!=0):\n",
    "        \n",
    "        #Normalizar para que estén entre 0 y 1\n",
    "        for i in range(len(hydrophilic['color'])):\n",
    "                x = hydrophilic['color'][i]\n",
    "                divisor = (hydrophilic['maxim']-hydrophilic['minim'])\n",
    "                if(divisor == 0):\n",
    "                    hydrophilic['color'][i] = 1\n",
    "                else:\n",
    "                    hydrophilic['color'][i] = (x - hydrophilic['minim'])/(hydrophilic['maxim']-hydrophilic['minim'])\n",
    "        \n",
    "        pl.scatter(hydrophilic['x'],hydrophilic['y'],c=hydrophilic['color'],zorder=2,cmap='Blues',s=60)\n",
    "        \n",
    "        #Barra de color Hydrophilic\n",
    "        cbar2 = pl.colorbar(label = \"Hydrophilic\", ticks=[0, 1], orientation='vertical')\n",
    "        cbar2.ax.set_yticklabels([str(hydrophilic['minim']-8), str(hydrophilic['maxim']-8)])\n",
    "        \n",
    "    #Mostrar cuadriculas\n",
    "    pl.grid(linewidth=0.5)\n",
    "    \n",
    "    #Mostrar solo valores enteros ejes entre el minimo y el máximo\n",
    "    pl.xticks([i for i in range(min(repres['x'])-1,max(repres['x'])+2)])\n",
    "    pl.yticks([i for i in range(min(repres['y'])-1,max(repres['y'])+2)])\n",
    "    pl.rcParams[\"figure.figsize\"] = (20, 20)\n",
    "\n",
    "    pl.show()"
   ]
  },
  {
   "cell_type": "code",
   "execution_count": 26,
   "metadata": {},
   "outputs": [
    {
     "data": {
      "image/png": "[encoded data removed]",
      "text/plain": [
       "<Figure size 1440x1440 with 3 Axes>"
      ]
     },
     "metadata": {
      "needs_background": "light"
     },
     "output_type": "display_data"
    }
   ],
   "source": [
    "represent_grad(Q6LAP7_dic, \"Glucose-6-phosphatase\")"
   ]
  },
  {
   "cell_type": "code",
   "execution_count": 27,
   "metadata": {},
   "outputs": [
    {
     "data": {
      "image/png": "[encoded data removed]",
      "text/plain": [
       "<Figure size 1440x1440 with 3 Axes>"
      ]
     },
     "metadata": {
      "needs_background": "light"
     },
     "output_type": "display_data"
    }
   ],
   "source": [
    "represent_grad(P01308_dic, \"Insulin\")"
   ]
  },
  {
   "cell_type": "code",
   "execution_count": 28,
   "metadata": {},
   "outputs": [
    {
     "data": {
      "image/png": "[encoded data removed]",
      "text/plain": [
       "<Figure size 1440x1440 with 3 Axes>"
      ]
     },
     "metadata": {
      "needs_background": "light"
     },
     "output_type": "display_data"
    }
   ],
   "source": [
    "represent_grad(A0A6M6B208_dic, \"Tat protein\")"
   ]
  },
  {
   "cell_type": "code",
   "execution_count": null,
   "metadata": {},
   "outputs": [],
   "source": []
  }
 ],
 "metadata": {
  "kernelspec": {
   "display_name": "Python 3",
   "language": "python",
   "name": "python3"
  },
  "language_info": {
   "codemirror_mode": {
    "name": "ipython",
    "version": 3
   },
   "file_extension": ".py",
   "mimetype": "text/x-python",
   "name": "python",
   "nbconvert_exporter": "python",
   "pygments_lexer": "ipython3",
   "version": "3.8.5"
  }
 },
 "nbformat": 4,
 "nbformat_minor": 4
}
